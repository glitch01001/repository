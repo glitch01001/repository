{
 "cells": [
  {
   "cell_type": "code",
   "execution_count": 94,
   "metadata": {},
   "outputs": [
    {
     "data": {
      "application/vnd.plotly.v1+json": {
       "config": {
        "plotlyServerURL": "https://plot.ly"
       },
       "data": [
        {
         "line": {
          "dash": "solid",
          "shape": "spline"
         },
         "mode": "lines+markers",
         "name": "BAL (Source)",
         "type": "scatter",
         "visible": true,
         "x": [
          "1",
          "2",
          "3",
          "4",
          "5",
          "6",
          "7",
          "8",
          "9",
          "10",
          "11",
          "12",
          "13",
          "14",
          "15",
          "16",
          "17",
          "18",
          "19",
          "20",
          "21",
          "22",
          "23",
          "24",
          "25",
          "26"
         ],
         "y": [
          205825,
          131738,
          201402,
          178031,
          226427,
          182808,
          149007,
          153812,
          218000,
          164501,
          190084,
          202225,
          334121,
          134417,
          172215,
          195680,
          258805,
          181669,
          166266,
          163448,
          240182,
          173845,
          212230,
          202764,
          284667,
          128389
         ]
        },
        {
         "line": {
          "dash": "solid",
          "shape": "spline"
         },
         "mode": "lines+markers",
         "name": "DAL (Source)",
         "type": "scatter",
         "visible": true,
         "x": [
          "1",
          "2",
          "3",
          "4",
          "5",
          "6",
          "7",
          "8",
          "9",
          "10",
          "11",
          "12",
          "13",
          "14",
          "15",
          "16",
          "17",
          "18",
          "19",
          "20",
          "21",
          "22",
          "23",
          "24",
          "25",
          "26"
         ],
         "y": [
          208470,
          588169,
          1036959,
          739720,
          677590,
          654888,
          495107,
          626558,
          511564,
          696578,
          764890,
          762065,
          598713,
          577699,
          1007297,
          733450,
          685110,
          694518,
          502576,
          583273,
          651394,
          727088,
          785002,
          794875,
          591612,
          569029
         ]
        },
        {
         "line": {
          "dash": "solid",
          "shape": "spline"
         },
         "mode": "lines+markers",
         "name": "HOU (Source)",
         "type": "scatter",
         "visible": true,
         "x": [
          "1",
          "2",
          "3",
          "4",
          "5",
          "6",
          "7",
          "8",
          "9",
          "10",
          "11",
          "12",
          "13",
          "14",
          "15",
          "16",
          "17",
          "18",
          "19",
          "20",
          "21",
          "22",
          "23",
          "24",
          "25",
          "26"
         ],
         "y": [
          596173,
          494569,
          549788,
          585935,
          572624,
          571020,
          619927,
          736646,
          804749,
          774828,
          493786,
          367751,
          478894,
          499416,
          588018,
          656392,
          708343,
          586496,
          654458,
          687123,
          768135,
          694975,
          478452,
          422601,
          517411,
          512226
         ]
        },
        {
         "line": {
          "dash": "solid",
          "shape": "spline"
         },
         "mode": "lines+markers",
         "name": "MIL (Source)",
         "type": "scatter",
         "visible": true,
         "x": [
          "1",
          "2",
          "3",
          "4",
          "5",
          "6",
          "7",
          "8",
          "9",
          "10",
          "11",
          "12",
          "13",
          "14",
          "15",
          "16",
          "17",
          "18",
          "19",
          "20",
          "21",
          "22",
          "23",
          "24",
          "25",
          "26"
         ],
         "y": [
          109509,
          37761,
          52179,
          49665,
          45948,
          69373,
          38857,
          34133,
          69375,
          127434,
          42022,
          57534,
          130830,
          65396,
          49240,
          56713,
          55716,
          56939,
          56332,
          27414,
          66221,
          130388,
          41032,
          81860,
          141060,
          55779
         ]
        },
        {
         "line": {
          "dash": "solid",
          "shape": "spline"
         },
         "mode": "lines+markers",
         "name": "MIN (Source)",
         "type": "scatter",
         "visible": true,
         "x": [
          "1",
          "2",
          "3",
          "4",
          "5",
          "6",
          "7",
          "8",
          "9",
          "10",
          "11",
          "12",
          "13",
          "14",
          "15",
          "16",
          "17",
          "18",
          "19",
          "20",
          "21",
          "22",
          "23",
          "24",
          "25",
          "26"
         ],
         "y": [
          41750,
          28605,
          18875,
          25538,
          19694,
          33068,
          28834,
          37567,
          51464,
          47973,
          42044,
          25190,
          49459,
          31299,
          16925,
          29554,
          29799,
          38408,
          31794,
          35687,
          50014,
          46763,
          24268,
          30486,
          58389,
          44004
         ]
        }
       ],
       "layout": {
        "font": {
         "color": "green"
        },
        "height": 700,
        "hovermode": "x",
        "legend": {
         "title": {
          "text": "Site"
         }
        },
        "margin": {
         "b": 40,
         "l": 40,
         "r": 20,
         "t": 40
        },
        "paper_bgcolor": "rgb(30, 30, 30)",
        "plot_bgcolor": "rgb(40, 40, 40)",
        "template": {
         "data": {
          "bar": [
           {
            "error_x": {
             "color": "#2a3f5f"
            },
            "error_y": {
             "color": "#2a3f5f"
            },
            "marker": {
             "line": {
              "color": "#E5ECF6",
              "width": 0.5
             },
             "pattern": {
              "fillmode": "overlay",
              "size": 10,
              "solidity": 0.2
             }
            },
            "type": "bar"
           }
          ],
          "barpolar": [
           {
            "marker": {
             "line": {
              "color": "#E5ECF6",
              "width": 0.5
             },
             "pattern": {
              "fillmode": "overlay",
              "size": 10,
              "solidity": 0.2
             }
            },
            "type": "barpolar"
           }
          ],
          "carpet": [
           {
            "aaxis": {
             "endlinecolor": "#2a3f5f",
             "gridcolor": "white",
             "linecolor": "white",
             "minorgridcolor": "white",
             "startlinecolor": "#2a3f5f"
            },
            "baxis": {
             "endlinecolor": "#2a3f5f",
             "gridcolor": "white",
             "linecolor": "white",
             "minorgridcolor": "white",
             "startlinecolor": "#2a3f5f"
            },
            "type": "carpet"
           }
          ],
          "choropleth": [
           {
            "colorbar": {
             "outlinewidth": 0,
             "ticks": ""
            },
            "type": "choropleth"
           }
          ],
          "contour": [
           {
            "colorbar": {
             "outlinewidth": 0,
             "ticks": ""
            },
            "colorscale": [
             [
              0,
              "#0d0887"
             ],
             [
              0.1111111111111111,
              "#46039f"
             ],
             [
              0.2222222222222222,
              "#7201a8"
             ],
             [
              0.3333333333333333,
              "#9c179e"
             ],
             [
              0.4444444444444444,
              "#bd3786"
             ],
             [
              0.5555555555555556,
              "#d8576b"
             ],
             [
              0.6666666666666666,
              "#ed7953"
             ],
             [
              0.7777777777777778,
              "#fb9f3a"
             ],
             [
              0.8888888888888888,
              "#fdca26"
             ],
             [
              1,
              "#f0f921"
             ]
            ],
            "type": "contour"
           }
          ],
          "contourcarpet": [
           {
            "colorbar": {
             "outlinewidth": 0,
             "ticks": ""
            },
            "type": "contourcarpet"
           }
          ],
          "heatmap": [
           {
            "colorbar": {
             "outlinewidth": 0,
             "ticks": ""
            },
            "colorscale": [
             [
              0,
              "#0d0887"
             ],
             [
              0.1111111111111111,
              "#46039f"
             ],
             [
              0.2222222222222222,
              "#7201a8"
             ],
             [
              0.3333333333333333,
              "#9c179e"
             ],
             [
              0.4444444444444444,
              "#bd3786"
             ],
             [
              0.5555555555555556,
              "#d8576b"
             ],
             [
              0.6666666666666666,
              "#ed7953"
             ],
             [
              0.7777777777777778,
              "#fb9f3a"
             ],
             [
              0.8888888888888888,
              "#fdca26"
             ],
             [
              1,
              "#f0f921"
             ]
            ],
            "type": "heatmap"
           }
          ],
          "heatmapgl": [
           {
            "colorbar": {
             "outlinewidth": 0,
             "ticks": ""
            },
            "colorscale": [
             [
              0,
              "#0d0887"
             ],
             [
              0.1111111111111111,
              "#46039f"
             ],
             [
              0.2222222222222222,
              "#7201a8"
             ],
             [
              0.3333333333333333,
              "#9c179e"
             ],
             [
              0.4444444444444444,
              "#bd3786"
             ],
             [
              0.5555555555555556,
              "#d8576b"
             ],
             [
              0.6666666666666666,
              "#ed7953"
             ],
             [
              0.7777777777777778,
              "#fb9f3a"
             ],
             [
              0.8888888888888888,
              "#fdca26"
             ],
             [
              1,
              "#f0f921"
             ]
            ],
            "type": "heatmapgl"
           }
          ],
          "histogram": [
           {
            "marker": {
             "pattern": {
              "fillmode": "overlay",
              "size": 10,
              "solidity": 0.2
             }
            },
            "type": "histogram"
           }
          ],
          "histogram2d": [
           {
            "colorbar": {
             "outlinewidth": 0,
             "ticks": ""
            },
            "colorscale": [
             [
              0,
              "#0d0887"
             ],
             [
              0.1111111111111111,
              "#46039f"
             ],
             [
              0.2222222222222222,
              "#7201a8"
             ],
             [
              0.3333333333333333,
              "#9c179e"
             ],
             [
              0.4444444444444444,
              "#bd3786"
             ],
             [
              0.5555555555555556,
              "#d8576b"
             ],
             [
              0.6666666666666666,
              "#ed7953"
             ],
             [
              0.7777777777777778,
              "#fb9f3a"
             ],
             [
              0.8888888888888888,
              "#fdca26"
             ],
             [
              1,
              "#f0f921"
             ]
            ],
            "type": "histogram2d"
           }
          ],
          "histogram2dcontour": [
           {
            "colorbar": {
             "outlinewidth": 0,
             "ticks": ""
            },
            "colorscale": [
             [
              0,
              "#0d0887"
             ],
             [
              0.1111111111111111,
              "#46039f"
             ],
             [
              0.2222222222222222,
              "#7201a8"
             ],
             [
              0.3333333333333333,
              "#9c179e"
             ],
             [
              0.4444444444444444,
              "#bd3786"
             ],
             [
              0.5555555555555556,
              "#d8576b"
             ],
             [
              0.6666666666666666,
              "#ed7953"
             ],
             [
              0.7777777777777778,
              "#fb9f3a"
             ],
             [
              0.8888888888888888,
              "#fdca26"
             ],
             [
              1,
              "#f0f921"
             ]
            ],
            "type": "histogram2dcontour"
           }
          ],
          "mesh3d": [
           {
            "colorbar": {
             "outlinewidth": 0,
             "ticks": ""
            },
            "type": "mesh3d"
           }
          ],
          "parcoords": [
           {
            "line": {
             "colorbar": {
              "outlinewidth": 0,
              "ticks": ""
             }
            },
            "type": "parcoords"
           }
          ],
          "pie": [
           {
            "automargin": true,
            "type": "pie"
           }
          ],
          "scatter": [
           {
            "fillpattern": {
             "fillmode": "overlay",
             "size": 10,
             "solidity": 0.2
            },
            "type": "scatter"
           }
          ],
          "scatter3d": [
           {
            "line": {
             "colorbar": {
              "outlinewidth": 0,
              "ticks": ""
             }
            },
            "marker": {
             "colorbar": {
              "outlinewidth": 0,
              "ticks": ""
             }
            },
            "type": "scatter3d"
           }
          ],
          "scattercarpet": [
           {
            "marker": {
             "colorbar": {
              "outlinewidth": 0,
              "ticks": ""
             }
            },
            "type": "scattercarpet"
           }
          ],
          "scattergeo": [
           {
            "marker": {
             "colorbar": {
              "outlinewidth": 0,
              "ticks": ""
             }
            },
            "type": "scattergeo"
           }
          ],
          "scattergl": [
           {
            "marker": {
             "colorbar": {
              "outlinewidth": 0,
              "ticks": ""
             }
            },
            "type": "scattergl"
           }
          ],
          "scattermapbox": [
           {
            "marker": {
             "colorbar": {
              "outlinewidth": 0,
              "ticks": ""
             }
            },
            "type": "scattermapbox"
           }
          ],
          "scatterpolar": [
           {
            "marker": {
             "colorbar": {
              "outlinewidth": 0,
              "ticks": ""
             }
            },
            "type": "scatterpolar"
           }
          ],
          "scatterpolargl": [
           {
            "marker": {
             "colorbar": {
              "outlinewidth": 0,
              "ticks": ""
             }
            },
            "type": "scatterpolargl"
           }
          ],
          "scatterternary": [
           {
            "marker": {
             "colorbar": {
              "outlinewidth": 0,
              "ticks": ""
             }
            },
            "type": "scatterternary"
           }
          ],
          "surface": [
           {
            "colorbar": {
             "outlinewidth": 0,
             "ticks": ""
            },
            "colorscale": [
             [
              0,
              "#0d0887"
             ],
             [
              0.1111111111111111,
              "#46039f"
             ],
             [
              0.2222222222222222,
              "#7201a8"
             ],
             [
              0.3333333333333333,
              "#9c179e"
             ],
             [
              0.4444444444444444,
              "#bd3786"
             ],
             [
              0.5555555555555556,
              "#d8576b"
             ],
             [
              0.6666666666666666,
              "#ed7953"
             ],
             [
              0.7777777777777778,
              "#fb9f3a"
             ],
             [
              0.8888888888888888,
              "#fdca26"
             ],
             [
              1,
              "#f0f921"
             ]
            ],
            "type": "surface"
           }
          ],
          "table": [
           {
            "cells": {
             "fill": {
              "color": "#EBF0F8"
             },
             "line": {
              "color": "white"
             }
            },
            "header": {
             "fill": {
              "color": "#C8D4E3"
             },
             "line": {
              "color": "white"
             }
            },
            "type": "table"
           }
          ]
         },
         "layout": {
          "annotationdefaults": {
           "arrowcolor": "#2a3f5f",
           "arrowhead": 0,
           "arrowwidth": 1
          },
          "autotypenumbers": "strict",
          "coloraxis": {
           "colorbar": {
            "outlinewidth": 0,
            "ticks": ""
           }
          },
          "colorscale": {
           "diverging": [
            [
             0,
             "#8e0152"
            ],
            [
             0.1,
             "#c51b7d"
            ],
            [
             0.2,
             "#de77ae"
            ],
            [
             0.3,
             "#f1b6da"
            ],
            [
             0.4,
             "#fde0ef"
            ],
            [
             0.5,
             "#f7f7f7"
            ],
            [
             0.6,
             "#e6f5d0"
            ],
            [
             0.7,
             "#b8e186"
            ],
            [
             0.8,
             "#7fbc41"
            ],
            [
             0.9,
             "#4d9221"
            ],
            [
             1,
             "#276419"
            ]
           ],
           "sequential": [
            [
             0,
             "#0d0887"
            ],
            [
             0.1111111111111111,
             "#46039f"
            ],
            [
             0.2222222222222222,
             "#7201a8"
            ],
            [
             0.3333333333333333,
             "#9c179e"
            ],
            [
             0.4444444444444444,
             "#bd3786"
            ],
            [
             0.5555555555555556,
             "#d8576b"
            ],
            [
             0.6666666666666666,
             "#ed7953"
            ],
            [
             0.7777777777777778,
             "#fb9f3a"
            ],
            [
             0.8888888888888888,
             "#fdca26"
            ],
            [
             1,
             "#f0f921"
            ]
           ],
           "sequentialminus": [
            [
             0,
             "#0d0887"
            ],
            [
             0.1111111111111111,
             "#46039f"
            ],
            [
             0.2222222222222222,
             "#7201a8"
            ],
            [
             0.3333333333333333,
             "#9c179e"
            ],
            [
             0.4444444444444444,
             "#bd3786"
            ],
            [
             0.5555555555555556,
             "#d8576b"
            ],
            [
             0.6666666666666666,
             "#ed7953"
            ],
            [
             0.7777777777777778,
             "#fb9f3a"
            ],
            [
             0.8888888888888888,
             "#fdca26"
            ],
            [
             1,
             "#f0f921"
            ]
           ]
          },
          "colorway": [
           "#636efa",
           "#EF553B",
           "#00cc96",
           "#ab63fa",
           "#FFA15A",
           "#19d3f3",
           "#FF6692",
           "#B6E880",
           "#FF97FF",
           "#FECB52"
          ],
          "font": {
           "color": "#2a3f5f"
          },
          "geo": {
           "bgcolor": "white",
           "lakecolor": "white",
           "landcolor": "#E5ECF6",
           "showlakes": true,
           "showland": true,
           "subunitcolor": "white"
          },
          "hoverlabel": {
           "align": "left"
          },
          "hovermode": "closest",
          "mapbox": {
           "style": "light"
          },
          "paper_bgcolor": "white",
          "plot_bgcolor": "#E5ECF6",
          "polar": {
           "angularaxis": {
            "gridcolor": "white",
            "linecolor": "white",
            "ticks": ""
           },
           "bgcolor": "#E5ECF6",
           "radialaxis": {
            "gridcolor": "white",
            "linecolor": "white",
            "ticks": ""
           }
          },
          "scene": {
           "xaxis": {
            "backgroundcolor": "#E5ECF6",
            "gridcolor": "white",
            "gridwidth": 2,
            "linecolor": "white",
            "showbackground": true,
            "ticks": "",
            "zerolinecolor": "white"
           },
           "yaxis": {
            "backgroundcolor": "#E5ECF6",
            "gridcolor": "white",
            "gridwidth": 2,
            "linecolor": "white",
            "showbackground": true,
            "ticks": "",
            "zerolinecolor": "white"
           },
           "zaxis": {
            "backgroundcolor": "#E5ECF6",
            "gridcolor": "white",
            "gridwidth": 2,
            "linecolor": "white",
            "showbackground": true,
            "ticks": "",
            "zerolinecolor": "white"
           }
          },
          "shapedefaults": {
           "line": {
            "color": "#2a3f5f"
           }
          },
          "ternary": {
           "aaxis": {
            "gridcolor": "white",
            "linecolor": "white",
            "ticks": ""
           },
           "baxis": {
            "gridcolor": "white",
            "linecolor": "white",
            "ticks": ""
           },
           "bgcolor": "#E5ECF6",
           "caxis": {
            "gridcolor": "white",
            "linecolor": "white",
            "ticks": ""
           }
          },
          "title": {
           "x": 0.05
          },
          "xaxis": {
           "automargin": true,
           "gridcolor": "white",
           "linecolor": "white",
           "ticks": "",
           "title": {
            "standoff": 15
           },
           "zerolinecolor": "white",
           "zerolinewidth": 2
          },
          "yaxis": {
           "automargin": true,
           "gridcolor": "white",
           "linecolor": "white",
           "ticks": "",
           "title": {
            "standoff": 15
           },
           "zerolinecolor": "white",
           "zerolinewidth": 2
          }
         }
        },
        "title": {
         "text": "Source Weekly Volume by Site"
        },
        "xaxis": {
         "dtick": 1,
         "gridcolor": "gray",
         "gridwidth": 0.5,
         "range": [
          0,
          15
         ],
         "tick0": 1,
         "tickmode": "linear",
         "title": {
          "text": "Week"
         },
         "zerolinecolor": "gray"
        },
        "yaxis": {
         "gridcolor": "gray",
         "gridwidth": 0.5,
         "title": {
          "text": "Weekly Volume"
         },
         "zerolinecolor": "gray"
        }
       }
      }
     },
     "metadata": {},
     "output_type": "display_data"
    },
    {
     "data": {
      "application/vnd.plotly.v1+json": {
       "config": {
        "plotlyServerURL": "https://plot.ly"
       },
       "data": [
        {
         "line": {
          "dash": "solid",
          "shape": "spline"
         },
         "mode": "lines+markers",
         "name": "BAL (Model)",
         "type": "scatter",
         "visible": true,
         "x": [
          "1",
          "2",
          "3",
          "4",
          "5",
          "6",
          "7",
          "8",
          "9",
          "10",
          "11",
          "12",
          "13",
          "14",
          "15",
          "16",
          "17",
          "18",
          "19",
          "20",
          "21",
          "22",
          "23",
          "24",
          "25",
          "26"
         ],
         "y": [
          160707,
          200767,
          196599,
          176866,
          188916,
          189697,
          178175,
          189542,
          196266,
          195504,
          198996,
          197957,
          189141,
          203484,
          194415,
          200008,
          0,
          0,
          0,
          0,
          0,
          0,
          0,
          0,
          0,
          0
         ]
        },
        {
         "line": {
          "dash": "solid",
          "shape": "spline"
         },
         "mode": "lines+markers",
         "name": "DAL (Model)",
         "type": "scatter",
         "visible": true,
         "x": [
          "1",
          "2",
          "3",
          "4",
          "5",
          "6",
          "7",
          "8",
          "9",
          "10",
          "11",
          "12",
          "13",
          "14",
          "15",
          "16",
          "17",
          "18",
          "19",
          "20",
          "21",
          "22",
          "23",
          "24",
          "25",
          "26"
         ],
         "y": [
          583390,
          712087,
          689066,
          712492,
          667445,
          653222,
          622143,
          616207,
          620423,
          682595,
          690141,
          697636,
          744214,
          722446,
          690155,
          713188,
          0,
          0,
          0,
          0,
          0,
          0,
          0,
          0,
          0,
          0
         ]
        },
        {
         "line": {
          "dash": "solid",
          "shape": "spline"
         },
         "mode": "lines+markers",
         "name": "HOU (Model)",
         "type": "scatter",
         "visible": true,
         "x": [
          "1",
          "2",
          "3",
          "4",
          "5",
          "6",
          "7",
          "8",
          "9",
          "10",
          "11",
          "12",
          "13",
          "14",
          "15",
          "16",
          "17",
          "18",
          "19",
          "20",
          "21",
          "22",
          "23",
          "24",
          "25",
          "26"
         ],
         "y": [
          550337,
          571815,
          517243,
          514736,
          657605,
          653597,
          629490,
          635329,
          664242,
          637042,
          551002,
          540273,
          496799,
          576590,
          555371,
          621700,
          0,
          0,
          0,
          0,
          0,
          0,
          0,
          0,
          0,
          0
         ]
        },
        {
         "line": {
          "dash": "solid",
          "shape": "spline"
         },
         "mode": "lines+markers",
         "name": "MIL (Model)",
         "type": "scatter",
         "visible": true,
         "x": [
          "1",
          "2",
          "3",
          "4",
          "5",
          "6",
          "7",
          "8",
          "9",
          "10",
          "11",
          "12",
          "13",
          "14",
          "15",
          "16",
          "17",
          "18",
          "19",
          "20",
          "21",
          "22",
          "23",
          "24",
          "25",
          "26"
         ],
         "y": [
          59180,
          54983,
          64502,
          63562,
          58078,
          61971,
          58356,
          62297,
          64801,
          67114,
          66567,
          72137,
          69409,
          69465,
          74082,
          66655,
          0,
          0,
          0,
          0,
          0,
          0,
          0,
          0,
          0,
          0
         ]
        },
        {
         "line": {
          "dash": "solid",
          "shape": "spline"
         },
         "mode": "lines+markers",
         "name": "MIN (Model)",
         "type": "scatter",
         "visible": true,
         "x": [
          "1",
          "2",
          "3",
          "4",
          "5",
          "6",
          "7",
          "8",
          "9",
          "10",
          "11",
          "12",
          "13",
          "14",
          "15",
          "16",
          "17",
          "18",
          "19",
          "20",
          "21",
          "22",
          "23",
          "24",
          "25",
          "26"
         ],
         "y": [
          29005,
          28129,
          36834,
          28904,
          32264,
          29143,
          35249,
          34729,
          32134,
          33757,
          34199,
          41143,
          33625,
          37825,
          40069,
          33444,
          1550,
          1800,
          1450,
          1200,
          1200,
          2100,
          3800,
          3900,
          4200,
          3550
         ]
        }
       ],
       "layout": {
        "font": {
         "color": "green"
        },
        "height": 700,
        "hovermode": "x",
        "legend": {
         "title": {
          "text": "Site"
         }
        },
        "margin": {
         "b": 40,
         "l": 40,
         "r": 20,
         "t": 40
        },
        "paper_bgcolor": "rgb(30, 30, 30)",
        "plot_bgcolor": "rgb(40, 40, 40)",
        "template": {
         "data": {
          "bar": [
           {
            "error_x": {
             "color": "#2a3f5f"
            },
            "error_y": {
             "color": "#2a3f5f"
            },
            "marker": {
             "line": {
              "color": "#E5ECF6",
              "width": 0.5
             },
             "pattern": {
              "fillmode": "overlay",
              "size": 10,
              "solidity": 0.2
             }
            },
            "type": "bar"
           }
          ],
          "barpolar": [
           {
            "marker": {
             "line": {
              "color": "#E5ECF6",
              "width": 0.5
             },
             "pattern": {
              "fillmode": "overlay",
              "size": 10,
              "solidity": 0.2
             }
            },
            "type": "barpolar"
           }
          ],
          "carpet": [
           {
            "aaxis": {
             "endlinecolor": "#2a3f5f",
             "gridcolor": "white",
             "linecolor": "white",
             "minorgridcolor": "white",
             "startlinecolor": "#2a3f5f"
            },
            "baxis": {
             "endlinecolor": "#2a3f5f",
             "gridcolor": "white",
             "linecolor": "white",
             "minorgridcolor": "white",
             "startlinecolor": "#2a3f5f"
            },
            "type": "carpet"
           }
          ],
          "choropleth": [
           {
            "colorbar": {
             "outlinewidth": 0,
             "ticks": ""
            },
            "type": "choropleth"
           }
          ],
          "contour": [
           {
            "colorbar": {
             "outlinewidth": 0,
             "ticks": ""
            },
            "colorscale": [
             [
              0,
              "#0d0887"
             ],
             [
              0.1111111111111111,
              "#46039f"
             ],
             [
              0.2222222222222222,
              "#7201a8"
             ],
             [
              0.3333333333333333,
              "#9c179e"
             ],
             [
              0.4444444444444444,
              "#bd3786"
             ],
             [
              0.5555555555555556,
              "#d8576b"
             ],
             [
              0.6666666666666666,
              "#ed7953"
             ],
             [
              0.7777777777777778,
              "#fb9f3a"
             ],
             [
              0.8888888888888888,
              "#fdca26"
             ],
             [
              1,
              "#f0f921"
             ]
            ],
            "type": "contour"
           }
          ],
          "contourcarpet": [
           {
            "colorbar": {
             "outlinewidth": 0,
             "ticks": ""
            },
            "type": "contourcarpet"
           }
          ],
          "heatmap": [
           {
            "colorbar": {
             "outlinewidth": 0,
             "ticks": ""
            },
            "colorscale": [
             [
              0,
              "#0d0887"
             ],
             [
              0.1111111111111111,
              "#46039f"
             ],
             [
              0.2222222222222222,
              "#7201a8"
             ],
             [
              0.3333333333333333,
              "#9c179e"
             ],
             [
              0.4444444444444444,
              "#bd3786"
             ],
             [
              0.5555555555555556,
              "#d8576b"
             ],
             [
              0.6666666666666666,
              "#ed7953"
             ],
             [
              0.7777777777777778,
              "#fb9f3a"
             ],
             [
              0.8888888888888888,
              "#fdca26"
             ],
             [
              1,
              "#f0f921"
             ]
            ],
            "type": "heatmap"
           }
          ],
          "heatmapgl": [
           {
            "colorbar": {
             "outlinewidth": 0,
             "ticks": ""
            },
            "colorscale": [
             [
              0,
              "#0d0887"
             ],
             [
              0.1111111111111111,
              "#46039f"
             ],
             [
              0.2222222222222222,
              "#7201a8"
             ],
             [
              0.3333333333333333,
              "#9c179e"
             ],
             [
              0.4444444444444444,
              "#bd3786"
             ],
             [
              0.5555555555555556,
              "#d8576b"
             ],
             [
              0.6666666666666666,
              "#ed7953"
             ],
             [
              0.7777777777777778,
              "#fb9f3a"
             ],
             [
              0.8888888888888888,
              "#fdca26"
             ],
             [
              1,
              "#f0f921"
             ]
            ],
            "type": "heatmapgl"
           }
          ],
          "histogram": [
           {
            "marker": {
             "pattern": {
              "fillmode": "overlay",
              "size": 10,
              "solidity": 0.2
             }
            },
            "type": "histogram"
           }
          ],
          "histogram2d": [
           {
            "colorbar": {
             "outlinewidth": 0,
             "ticks": ""
            },
            "colorscale": [
             [
              0,
              "#0d0887"
             ],
             [
              0.1111111111111111,
              "#46039f"
             ],
             [
              0.2222222222222222,
              "#7201a8"
             ],
             [
              0.3333333333333333,
              "#9c179e"
             ],
             [
              0.4444444444444444,
              "#bd3786"
             ],
             [
              0.5555555555555556,
              "#d8576b"
             ],
             [
              0.6666666666666666,
              "#ed7953"
             ],
             [
              0.7777777777777778,
              "#fb9f3a"
             ],
             [
              0.8888888888888888,
              "#fdca26"
             ],
             [
              1,
              "#f0f921"
             ]
            ],
            "type": "histogram2d"
           }
          ],
          "histogram2dcontour": [
           {
            "colorbar": {
             "outlinewidth": 0,
             "ticks": ""
            },
            "colorscale": [
             [
              0,
              "#0d0887"
             ],
             [
              0.1111111111111111,
              "#46039f"
             ],
             [
              0.2222222222222222,
              "#7201a8"
             ],
             [
              0.3333333333333333,
              "#9c179e"
             ],
             [
              0.4444444444444444,
              "#bd3786"
             ],
             [
              0.5555555555555556,
              "#d8576b"
             ],
             [
              0.6666666666666666,
              "#ed7953"
             ],
             [
              0.7777777777777778,
              "#fb9f3a"
             ],
             [
              0.8888888888888888,
              "#fdca26"
             ],
             [
              1,
              "#f0f921"
             ]
            ],
            "type": "histogram2dcontour"
           }
          ],
          "mesh3d": [
           {
            "colorbar": {
             "outlinewidth": 0,
             "ticks": ""
            },
            "type": "mesh3d"
           }
          ],
          "parcoords": [
           {
            "line": {
             "colorbar": {
              "outlinewidth": 0,
              "ticks": ""
             }
            },
            "type": "parcoords"
           }
          ],
          "pie": [
           {
            "automargin": true,
            "type": "pie"
           }
          ],
          "scatter": [
           {
            "fillpattern": {
             "fillmode": "overlay",
             "size": 10,
             "solidity": 0.2
            },
            "type": "scatter"
           }
          ],
          "scatter3d": [
           {
            "line": {
             "colorbar": {
              "outlinewidth": 0,
              "ticks": ""
             }
            },
            "marker": {
             "colorbar": {
              "outlinewidth": 0,
              "ticks": ""
             }
            },
            "type": "scatter3d"
           }
          ],
          "scattercarpet": [
           {
            "marker": {
             "colorbar": {
              "outlinewidth": 0,
              "ticks": ""
             }
            },
            "type": "scattercarpet"
           }
          ],
          "scattergeo": [
           {
            "marker": {
             "colorbar": {
              "outlinewidth": 0,
              "ticks": ""
             }
            },
            "type": "scattergeo"
           }
          ],
          "scattergl": [
           {
            "marker": {
             "colorbar": {
              "outlinewidth": 0,
              "ticks": ""
             }
            },
            "type": "scattergl"
           }
          ],
          "scattermapbox": [
           {
            "marker": {
             "colorbar": {
              "outlinewidth": 0,
              "ticks": ""
             }
            },
            "type": "scattermapbox"
           }
          ],
          "scatterpolar": [
           {
            "marker": {
             "colorbar": {
              "outlinewidth": 0,
              "ticks": ""
             }
            },
            "type": "scatterpolar"
           }
          ],
          "scatterpolargl": [
           {
            "marker": {
             "colorbar": {
              "outlinewidth": 0,
              "ticks": ""
             }
            },
            "type": "scatterpolargl"
           }
          ],
          "scatterternary": [
           {
            "marker": {
             "colorbar": {
              "outlinewidth": 0,
              "ticks": ""
             }
            },
            "type": "scatterternary"
           }
          ],
          "surface": [
           {
            "colorbar": {
             "outlinewidth": 0,
             "ticks": ""
            },
            "colorscale": [
             [
              0,
              "#0d0887"
             ],
             [
              0.1111111111111111,
              "#46039f"
             ],
             [
              0.2222222222222222,
              "#7201a8"
             ],
             [
              0.3333333333333333,
              "#9c179e"
             ],
             [
              0.4444444444444444,
              "#bd3786"
             ],
             [
              0.5555555555555556,
              "#d8576b"
             ],
             [
              0.6666666666666666,
              "#ed7953"
             ],
             [
              0.7777777777777778,
              "#fb9f3a"
             ],
             [
              0.8888888888888888,
              "#fdca26"
             ],
             [
              1,
              "#f0f921"
             ]
            ],
            "type": "surface"
           }
          ],
          "table": [
           {
            "cells": {
             "fill": {
              "color": "#EBF0F8"
             },
             "line": {
              "color": "white"
             }
            },
            "header": {
             "fill": {
              "color": "#C8D4E3"
             },
             "line": {
              "color": "white"
             }
            },
            "type": "table"
           }
          ]
         },
         "layout": {
          "annotationdefaults": {
           "arrowcolor": "#2a3f5f",
           "arrowhead": 0,
           "arrowwidth": 1
          },
          "autotypenumbers": "strict",
          "coloraxis": {
           "colorbar": {
            "outlinewidth": 0,
            "ticks": ""
           }
          },
          "colorscale": {
           "diverging": [
            [
             0,
             "#8e0152"
            ],
            [
             0.1,
             "#c51b7d"
            ],
            [
             0.2,
             "#de77ae"
            ],
            [
             0.3,
             "#f1b6da"
            ],
            [
             0.4,
             "#fde0ef"
            ],
            [
             0.5,
             "#f7f7f7"
            ],
            [
             0.6,
             "#e6f5d0"
            ],
            [
             0.7,
             "#b8e186"
            ],
            [
             0.8,
             "#7fbc41"
            ],
            [
             0.9,
             "#4d9221"
            ],
            [
             1,
             "#276419"
            ]
           ],
           "sequential": [
            [
             0,
             "#0d0887"
            ],
            [
             0.1111111111111111,
             "#46039f"
            ],
            [
             0.2222222222222222,
             "#7201a8"
            ],
            [
             0.3333333333333333,
             "#9c179e"
            ],
            [
             0.4444444444444444,
             "#bd3786"
            ],
            [
             0.5555555555555556,
             "#d8576b"
            ],
            [
             0.6666666666666666,
             "#ed7953"
            ],
            [
             0.7777777777777778,
             "#fb9f3a"
            ],
            [
             0.8888888888888888,
             "#fdca26"
            ],
            [
             1,
             "#f0f921"
            ]
           ],
           "sequentialminus": [
            [
             0,
             "#0d0887"
            ],
            [
             0.1111111111111111,
             "#46039f"
            ],
            [
             0.2222222222222222,
             "#7201a8"
            ],
            [
             0.3333333333333333,
             "#9c179e"
            ],
            [
             0.4444444444444444,
             "#bd3786"
            ],
            [
             0.5555555555555556,
             "#d8576b"
            ],
            [
             0.6666666666666666,
             "#ed7953"
            ],
            [
             0.7777777777777778,
             "#fb9f3a"
            ],
            [
             0.8888888888888888,
             "#fdca26"
            ],
            [
             1,
             "#f0f921"
            ]
           ]
          },
          "colorway": [
           "#636efa",
           "#EF553B",
           "#00cc96",
           "#ab63fa",
           "#FFA15A",
           "#19d3f3",
           "#FF6692",
           "#B6E880",
           "#FF97FF",
           "#FECB52"
          ],
          "font": {
           "color": "#2a3f5f"
          },
          "geo": {
           "bgcolor": "white",
           "lakecolor": "white",
           "landcolor": "#E5ECF6",
           "showlakes": true,
           "showland": true,
           "subunitcolor": "white"
          },
          "hoverlabel": {
           "align": "left"
          },
          "hovermode": "closest",
          "mapbox": {
           "style": "light"
          },
          "paper_bgcolor": "white",
          "plot_bgcolor": "#E5ECF6",
          "polar": {
           "angularaxis": {
            "gridcolor": "white",
            "linecolor": "white",
            "ticks": ""
           },
           "bgcolor": "#E5ECF6",
           "radialaxis": {
            "gridcolor": "white",
            "linecolor": "white",
            "ticks": ""
           }
          },
          "scene": {
           "xaxis": {
            "backgroundcolor": "#E5ECF6",
            "gridcolor": "white",
            "gridwidth": 2,
            "linecolor": "white",
            "showbackground": true,
            "ticks": "",
            "zerolinecolor": "white"
           },
           "yaxis": {
            "backgroundcolor": "#E5ECF6",
            "gridcolor": "white",
            "gridwidth": 2,
            "linecolor": "white",
            "showbackground": true,
            "ticks": "",
            "zerolinecolor": "white"
           },
           "zaxis": {
            "backgroundcolor": "#E5ECF6",
            "gridcolor": "white",
            "gridwidth": 2,
            "linecolor": "white",
            "showbackground": true,
            "ticks": "",
            "zerolinecolor": "white"
           }
          },
          "shapedefaults": {
           "line": {
            "color": "#2a3f5f"
           }
          },
          "ternary": {
           "aaxis": {
            "gridcolor": "white",
            "linecolor": "white",
            "ticks": ""
           },
           "baxis": {
            "gridcolor": "white",
            "linecolor": "white",
            "ticks": ""
           },
           "bgcolor": "#E5ECF6",
           "caxis": {
            "gridcolor": "white",
            "linecolor": "white",
            "ticks": ""
           }
          },
          "title": {
           "x": 0.05
          },
          "xaxis": {
           "automargin": true,
           "gridcolor": "white",
           "linecolor": "white",
           "ticks": "",
           "title": {
            "standoff": 15
           },
           "zerolinecolor": "white",
           "zerolinewidth": 2
          },
          "yaxis": {
           "automargin": true,
           "gridcolor": "white",
           "linecolor": "white",
           "ticks": "",
           "title": {
            "standoff": 15
           },
           "zerolinecolor": "white",
           "zerolinewidth": 2
          }
         }
        },
        "title": {
         "text": "Source Weekly Volume by Site"
        },
        "xaxis": {
         "dtick": 1,
         "gridcolor": "gray",
         "gridwidth": 0.5,
         "range": [
          0,
          15
         ],
         "tick0": 1,
         "tickmode": "linear",
         "title": {
          "text": "Week"
         },
         "zerolinecolor": "gray"
        },
        "yaxis": {
         "gridcolor": "gray",
         "gridwidth": 0.5,
         "title": {
          "text": "Weekly Volume"
         },
         "zerolinecolor": "gray"
        }
       }
      }
     },
     "metadata": {},
     "output_type": "display_data"
    }
   ],
   "source": [
    "import pandas as pd\n",
    "import plotly.graph_objects as go\n",
    "\n",
    "# Load the data from the compiled CSV file\n",
    "input_file = r'C:\\Users\\aaron.eades\\OneDrive - Liquid Environmental Solutions\\Documents\\Programing\\Python\\Automated Density\\exports\\compiled_file_with_source_2.csv'\n",
    "df = pd.read_csv(input_file)\n",
    "\n",
    "# List of columns representing the weeks (1 to 26)\n",
    "week_columns = [str(i) for i in range(1, 27)]  # Adjust the range if fewer or more weeks exist\n",
    "\n",
    "# Group by 'Site' and sum the Model Volume (week columns)\n",
    "grouped_model = df.groupby('Site')[week_columns].sum()\n",
    "\n",
    "# Define global parameters for Source projection\n",
    "predict = 26  # Number of weeks to predict\n",
    "weekCodes = [str(i) for i in range(1, predict + 1)]\n",
    "\n",
    "# Function to create the source projection based on Source_NSD, frequency, and gallons\n",
    "def create_customer_projection(start_week, frequency, gallons):\n",
    "    projection = pd.Series(0, index=weekCodes)\n",
    "    for week in range(start_week, predict + 1, frequency):\n",
    "        if week <= predict:\n",
    "            projection[str(week)] = gallons\n",
    "    return projection\n",
    "\n",
    "# List to store source projections for each customer\n",
    "source_projections = []\n",
    "\n",
    "# Generate projections for each customer using 'Source_NSD' as start_week\n",
    "for idx, row in df.iterrows():\n",
    "    try:\n",
    "        start_week = int(row['Source_NSD'])  # Source start week is in 'Source_NSD'\n",
    "        frequency = int(row['FREQ'])  # Frequency of service\n",
    "        gallons = float(row['GALLONS'])  # Gallons for each customer\n",
    "\n",
    "        # Create the projection for the source\n",
    "        source_projection = create_customer_projection(start_week, frequency, gallons)\n",
    "\n",
    "        # Append to source projections with the Site as an identifier\n",
    "        source_projections.append((row['Site'], source_projection))\n",
    "    \n",
    "    except ValueError:\n",
    "        print(f\"Skipping row {idx} due to missing or invalid data.\")\n",
    "\n",
    "# Convert the list of projections into a DataFrame\n",
    "projection_df = pd.DataFrame([proj[1] for proj in source_projections])\n",
    "projection_df['Site'] = [proj[0] for proj in source_projections]\n",
    "\n",
    "# Group by 'Site' and sum the Source Volume (week columns)\n",
    "grouped_source = projection_df.groupby('Site')[weekCodes].sum()\n",
    "\n",
    "# Create the figure for Model volumes\n",
    "fig_model = go.Figure()\n",
    "\n",
    "# Add traces for each site's Model projection\n",
    "for site in grouped_model.index:\n",
    "    fig_model.add_trace(go.Scatter(x=weekCodes, y=grouped_model.loc[site],\n",
    "                             mode='lines+markers', name=f'{site} (Model)',\n",
    "                             line=dict(dash='solid', shape='spline'), visible=True))\n",
    "\n",
    "# Update layout for Model plot\n",
    "fig_model.update_layout(\n",
    "    title=\"Source Weekly Volume by Site\",\n",
    "    xaxis_title=\"Week\",\n",
    "    yaxis_title=\"Weekly Volume\",\n",
    "    paper_bgcolor='rgb(30, 30, 30)',  # Dark background\n",
    "    plot_bgcolor='rgb(40, 40, 40)',   # Slightly lighter background for plot area\n",
    "    font=dict(color='green'),         # White font for labels\n",
    "    xaxis=dict(tickmode='linear', tick0=1, dtick=1, range=[0, 15], gridcolor='gray', zerolinecolor='gray', gridwidth=0.5),\n",
    "    yaxis=dict(gridcolor='gray', zerolinecolor='gray', gridwidth=0.5),\n",
    "    hovermode='x',\n",
    "    legend_title=\"Site\",\n",
    "    height=700,  # Adjust the height if needed,\n",
    "    margin=dict(l=40, r=20, t=40, b=40)  # Reducing the margins\n",
    ")\n",
    "\n",
    "# Create the figure for Source volumes\n",
    "fig_source = go.Figure()\n",
    "\n",
    "# Add traces for each site's Source projection\n",
    "for site in grouped_source.index:\n",
    "    fig_source.add_trace(go.Scatter(x=weekCodes, y=grouped_source.loc[site],\n",
    "                             mode='lines+markers', name=f'{site} (Source)',\n",
    "                             line=dict(dash='solid', shape='spline'), visible=True))\n",
    "\n",
    "# Update layout for Source plot\n",
    "fig_source.update_layout(\n",
    "    title=\"Source Weekly Volume by Site\",\n",
    "    xaxis_title=\"Week\",\n",
    "    yaxis_title=\"Weekly Volume\",\n",
    "    paper_bgcolor='rgb(30, 30, 30)',  # Dark background\n",
    "    plot_bgcolor='rgb(40, 40, 40)',   # Slightly lighter background for plot area\n",
    "    font=dict(color='green'),         # White font for labels\n",
    "    xaxis=dict(tickmode='linear', tick0=1, dtick=1, range=[0, 15], gridcolor='gray', zerolinecolor='gray', gridwidth=0.5),\n",
    "    yaxis=dict(gridcolor='gray', zerolinecolor='gray', gridwidth=0.5),\n",
    "    hovermode='x',\n",
    "    legend_title=\"Site\",\n",
    "    height=700,  # Adjust the height if needed,\n",
    "    margin=dict(l=40, r=20, t=40, b=40)  # Reducing the margins\n",
    ")\n",
    "\n",
    "# Display both plots\n",
    "fig_source.show()\n",
    "fig_model.show()\n",
    "\n"
   ]
  },
  {
   "cell_type": "code",
   "execution_count": 98,
   "metadata": {},
   "outputs": [
    {
     "data": {
      "application/vnd.plotly.v1+json": {
       "config": {
        "plotlyServerURL": "https://plot.ly"
       },
       "data": [
        {
         "line": {
          "color": "#636EFA",
          "dash": "solid",
          "shape": "spline"
         },
         "mode": "lines+markers",
         "name": "BAL (Source)",
         "type": "scatter",
         "visible": true,
         "x": [
          "1",
          "2",
          "3",
          "4",
          "5",
          "6",
          "7",
          "8",
          "9",
          "10",
          "11",
          "12",
          "13",
          "14",
          "15",
          "16",
          "17",
          "18",
          "19",
          "20",
          "21",
          "22",
          "23",
          "24",
          "25",
          "26"
         ],
         "y": [
          205825,
          131738,
          201402,
          178031,
          226427,
          182808,
          149007,
          153812,
          218000,
          164501,
          190084,
          202225,
          334121,
          134417,
          172215,
          195680,
          258805,
          181669,
          166266,
          163448,
          240182,
          173845,
          212230,
          202764,
          284667,
          128389
         ]
        },
        {
         "line": {
          "color": "#636EFA",
          "dash": "dash",
          "shape": "spline"
         },
         "mode": "lines+markers",
         "name": "BAL (Model)",
         "type": "scatter",
         "visible": true,
         "x": [
          "1",
          "2",
          "3",
          "4",
          "5",
          "6",
          "7",
          "8",
          "9",
          "10",
          "11",
          "12",
          "13",
          "14",
          "15",
          "16",
          "17",
          "18",
          "19",
          "20",
          "21",
          "22",
          "23",
          "24",
          "25",
          "26"
         ],
         "y": [
          160707,
          200767,
          196599,
          176866,
          188916,
          189697,
          178175,
          189542,
          196266,
          195504,
          198996,
          197957,
          189141,
          203484,
          194415,
          200008,
          0,
          0,
          0,
          0,
          0,
          0,
          0,
          0,
          0,
          0
         ]
        },
        {
         "line": {
          "color": "#EF553B",
          "dash": "solid",
          "shape": "spline"
         },
         "mode": "lines+markers",
         "name": "DAL (Source)",
         "type": "scatter",
         "visible": true,
         "x": [
          "1",
          "2",
          "3",
          "4",
          "5",
          "6",
          "7",
          "8",
          "9",
          "10",
          "11",
          "12",
          "13",
          "14",
          "15",
          "16",
          "17",
          "18",
          "19",
          "20",
          "21",
          "22",
          "23",
          "24",
          "25",
          "26"
         ],
         "y": [
          208470,
          588169,
          1036959,
          739720,
          677590,
          654888,
          495107,
          626558,
          511564,
          696578,
          764890,
          762065,
          598713,
          577699,
          1007297,
          733450,
          685110,
          694518,
          502576,
          583273,
          651394,
          727088,
          785002,
          794875,
          591612,
          569029
         ]
        },
        {
         "line": {
          "color": "#EF553B",
          "dash": "dash",
          "shape": "spline"
         },
         "mode": "lines+markers",
         "name": "DAL (Model)",
         "type": "scatter",
         "visible": true,
         "x": [
          "1",
          "2",
          "3",
          "4",
          "5",
          "6",
          "7",
          "8",
          "9",
          "10",
          "11",
          "12",
          "13",
          "14",
          "15",
          "16",
          "17",
          "18",
          "19",
          "20",
          "21",
          "22",
          "23",
          "24",
          "25",
          "26"
         ],
         "y": [
          583390,
          712087,
          689066,
          712492,
          667445,
          653222,
          622143,
          616207,
          620423,
          682595,
          690141,
          697636,
          744214,
          722446,
          690155,
          713188,
          0,
          0,
          0,
          0,
          0,
          0,
          0,
          0,
          0,
          0
         ]
        },
        {
         "line": {
          "color": "#00CC96",
          "dash": "solid",
          "shape": "spline"
         },
         "mode": "lines+markers",
         "name": "HOU (Source)",
         "type": "scatter",
         "visible": true,
         "x": [
          "1",
          "2",
          "3",
          "4",
          "5",
          "6",
          "7",
          "8",
          "9",
          "10",
          "11",
          "12",
          "13",
          "14",
          "15",
          "16",
          "17",
          "18",
          "19",
          "20",
          "21",
          "22",
          "23",
          "24",
          "25",
          "26"
         ],
         "y": [
          596173,
          494569,
          549788,
          585935,
          572624,
          571020,
          619927,
          736646,
          804749,
          774828,
          493786,
          367751,
          478894,
          499416,
          588018,
          656392,
          708343,
          586496,
          654458,
          687123,
          768135,
          694975,
          478452,
          422601,
          517411,
          512226
         ]
        },
        {
         "line": {
          "color": "#00CC96",
          "dash": "dash",
          "shape": "spline"
         },
         "mode": "lines+markers",
         "name": "HOU (Model)",
         "type": "scatter",
         "visible": true,
         "x": [
          "1",
          "2",
          "3",
          "4",
          "5",
          "6",
          "7",
          "8",
          "9",
          "10",
          "11",
          "12",
          "13",
          "14",
          "15",
          "16",
          "17",
          "18",
          "19",
          "20",
          "21",
          "22",
          "23",
          "24",
          "25",
          "26"
         ],
         "y": [
          550337,
          571815,
          517243,
          514736,
          657605,
          653597,
          629490,
          635329,
          664242,
          637042,
          551002,
          540273,
          496799,
          576590,
          555371,
          621700,
          0,
          0,
          0,
          0,
          0,
          0,
          0,
          0,
          0,
          0
         ]
        },
        {
         "line": {
          "color": "#AB63FA",
          "dash": "solid",
          "shape": "spline"
         },
         "mode": "lines+markers",
         "name": "MIL (Source)",
         "type": "scatter",
         "visible": true,
         "x": [
          "1",
          "2",
          "3",
          "4",
          "5",
          "6",
          "7",
          "8",
          "9",
          "10",
          "11",
          "12",
          "13",
          "14",
          "15",
          "16",
          "17",
          "18",
          "19",
          "20",
          "21",
          "22",
          "23",
          "24",
          "25",
          "26"
         ],
         "y": [
          109509,
          37761,
          52179,
          49665,
          45948,
          69373,
          38857,
          34133,
          69375,
          127434,
          42022,
          57534,
          130830,
          65396,
          49240,
          56713,
          55716,
          56939,
          56332,
          27414,
          66221,
          130388,
          41032,
          81860,
          141060,
          55779
         ]
        },
        {
         "line": {
          "color": "#AB63FA",
          "dash": "dash",
          "shape": "spline"
         },
         "mode": "lines+markers",
         "name": "MIL (Model)",
         "type": "scatter",
         "visible": true,
         "x": [
          "1",
          "2",
          "3",
          "4",
          "5",
          "6",
          "7",
          "8",
          "9",
          "10",
          "11",
          "12",
          "13",
          "14",
          "15",
          "16",
          "17",
          "18",
          "19",
          "20",
          "21",
          "22",
          "23",
          "24",
          "25",
          "26"
         ],
         "y": [
          59180,
          54983,
          64502,
          63562,
          58078,
          61971,
          58356,
          62297,
          64801,
          67114,
          66567,
          72137,
          69409,
          69465,
          74082,
          66655,
          0,
          0,
          0,
          0,
          0,
          0,
          0,
          0,
          0,
          0
         ]
        },
        {
         "line": {
          "color": "#FFA15A",
          "dash": "solid",
          "shape": "spline"
         },
         "mode": "lines+markers",
         "name": "MIN (Source)",
         "type": "scatter",
         "visible": true,
         "x": [
          "1",
          "2",
          "3",
          "4",
          "5",
          "6",
          "7",
          "8",
          "9",
          "10",
          "11",
          "12",
          "13",
          "14",
          "15",
          "16",
          "17",
          "18",
          "19",
          "20",
          "21",
          "22",
          "23",
          "24",
          "25",
          "26"
         ],
         "y": [
          41750,
          28605,
          18875,
          25538,
          19694,
          33068,
          28834,
          37567,
          51464,
          47973,
          42044,
          25190,
          49459,
          31299,
          16925,
          29554,
          29799,
          38408,
          31794,
          35687,
          50014,
          46763,
          24268,
          30486,
          58389,
          44004
         ]
        },
        {
         "line": {
          "color": "#FFA15A",
          "dash": "dash",
          "shape": "spline"
         },
         "mode": "lines+markers",
         "name": "MIN (Model)",
         "type": "scatter",
         "visible": true,
         "x": [
          "1",
          "2",
          "3",
          "4",
          "5",
          "6",
          "7",
          "8",
          "9",
          "10",
          "11",
          "12",
          "13",
          "14",
          "15",
          "16",
          "17",
          "18",
          "19",
          "20",
          "21",
          "22",
          "23",
          "24",
          "25",
          "26"
         ],
         "y": [
          29005,
          28129,
          36834,
          28904,
          32264,
          29143,
          35249,
          34729,
          32134,
          33757,
          34199,
          41143,
          33625,
          37825,
          40069,
          33444,
          1550,
          1800,
          1450,
          1200,
          1200,
          2100,
          3800,
          3900,
          4200,
          3550
         ]
        }
       ],
       "layout": {
        "font": {
         "color": "green"
        },
        "height": 900,
        "hovermode": "x",
        "legend": {
         "title": {
          "text": "Site"
         }
        },
        "margin": {
         "b": 40,
         "l": 40,
         "r": 20,
         "t": 40
        },
        "paper_bgcolor": "rgb(30, 30, 30)",
        "plot_bgcolor": "rgb(40, 40, 40)",
        "template": {
         "data": {
          "bar": [
           {
            "error_x": {
             "color": "#2a3f5f"
            },
            "error_y": {
             "color": "#2a3f5f"
            },
            "marker": {
             "line": {
              "color": "#E5ECF6",
              "width": 0.5
             },
             "pattern": {
              "fillmode": "overlay",
              "size": 10,
              "solidity": 0.2
             }
            },
            "type": "bar"
           }
          ],
          "barpolar": [
           {
            "marker": {
             "line": {
              "color": "#E5ECF6",
              "width": 0.5
             },
             "pattern": {
              "fillmode": "overlay",
              "size": 10,
              "solidity": 0.2
             }
            },
            "type": "barpolar"
           }
          ],
          "carpet": [
           {
            "aaxis": {
             "endlinecolor": "#2a3f5f",
             "gridcolor": "white",
             "linecolor": "white",
             "minorgridcolor": "white",
             "startlinecolor": "#2a3f5f"
            },
            "baxis": {
             "endlinecolor": "#2a3f5f",
             "gridcolor": "white",
             "linecolor": "white",
             "minorgridcolor": "white",
             "startlinecolor": "#2a3f5f"
            },
            "type": "carpet"
           }
          ],
          "choropleth": [
           {
            "colorbar": {
             "outlinewidth": 0,
             "ticks": ""
            },
            "type": "choropleth"
           }
          ],
          "contour": [
           {
            "colorbar": {
             "outlinewidth": 0,
             "ticks": ""
            },
            "colorscale": [
             [
              0,
              "#0d0887"
             ],
             [
              0.1111111111111111,
              "#46039f"
             ],
             [
              0.2222222222222222,
              "#7201a8"
             ],
             [
              0.3333333333333333,
              "#9c179e"
             ],
             [
              0.4444444444444444,
              "#bd3786"
             ],
             [
              0.5555555555555556,
              "#d8576b"
             ],
             [
              0.6666666666666666,
              "#ed7953"
             ],
             [
              0.7777777777777778,
              "#fb9f3a"
             ],
             [
              0.8888888888888888,
              "#fdca26"
             ],
             [
              1,
              "#f0f921"
             ]
            ],
            "type": "contour"
           }
          ],
          "contourcarpet": [
           {
            "colorbar": {
             "outlinewidth": 0,
             "ticks": ""
            },
            "type": "contourcarpet"
           }
          ],
          "heatmap": [
           {
            "colorbar": {
             "outlinewidth": 0,
             "ticks": ""
            },
            "colorscale": [
             [
              0,
              "#0d0887"
             ],
             [
              0.1111111111111111,
              "#46039f"
             ],
             [
              0.2222222222222222,
              "#7201a8"
             ],
             [
              0.3333333333333333,
              "#9c179e"
             ],
             [
              0.4444444444444444,
              "#bd3786"
             ],
             [
              0.5555555555555556,
              "#d8576b"
             ],
             [
              0.6666666666666666,
              "#ed7953"
             ],
             [
              0.7777777777777778,
              "#fb9f3a"
             ],
             [
              0.8888888888888888,
              "#fdca26"
             ],
             [
              1,
              "#f0f921"
             ]
            ],
            "type": "heatmap"
           }
          ],
          "heatmapgl": [
           {
            "colorbar": {
             "outlinewidth": 0,
             "ticks": ""
            },
            "colorscale": [
             [
              0,
              "#0d0887"
             ],
             [
              0.1111111111111111,
              "#46039f"
             ],
             [
              0.2222222222222222,
              "#7201a8"
             ],
             [
              0.3333333333333333,
              "#9c179e"
             ],
             [
              0.4444444444444444,
              "#bd3786"
             ],
             [
              0.5555555555555556,
              "#d8576b"
             ],
             [
              0.6666666666666666,
              "#ed7953"
             ],
             [
              0.7777777777777778,
              "#fb9f3a"
             ],
             [
              0.8888888888888888,
              "#fdca26"
             ],
             [
              1,
              "#f0f921"
             ]
            ],
            "type": "heatmapgl"
           }
          ],
          "histogram": [
           {
            "marker": {
             "pattern": {
              "fillmode": "overlay",
              "size": 10,
              "solidity": 0.2
             }
            },
            "type": "histogram"
           }
          ],
          "histogram2d": [
           {
            "colorbar": {
             "outlinewidth": 0,
             "ticks": ""
            },
            "colorscale": [
             [
              0,
              "#0d0887"
             ],
             [
              0.1111111111111111,
              "#46039f"
             ],
             [
              0.2222222222222222,
              "#7201a8"
             ],
             [
              0.3333333333333333,
              "#9c179e"
             ],
             [
              0.4444444444444444,
              "#bd3786"
             ],
             [
              0.5555555555555556,
              "#d8576b"
             ],
             [
              0.6666666666666666,
              "#ed7953"
             ],
             [
              0.7777777777777778,
              "#fb9f3a"
             ],
             [
              0.8888888888888888,
              "#fdca26"
             ],
             [
              1,
              "#f0f921"
             ]
            ],
            "type": "histogram2d"
           }
          ],
          "histogram2dcontour": [
           {
            "colorbar": {
             "outlinewidth": 0,
             "ticks": ""
            },
            "colorscale": [
             [
              0,
              "#0d0887"
             ],
             [
              0.1111111111111111,
              "#46039f"
             ],
             [
              0.2222222222222222,
              "#7201a8"
             ],
             [
              0.3333333333333333,
              "#9c179e"
             ],
             [
              0.4444444444444444,
              "#bd3786"
             ],
             [
              0.5555555555555556,
              "#d8576b"
             ],
             [
              0.6666666666666666,
              "#ed7953"
             ],
             [
              0.7777777777777778,
              "#fb9f3a"
             ],
             [
              0.8888888888888888,
              "#fdca26"
             ],
             [
              1,
              "#f0f921"
             ]
            ],
            "type": "histogram2dcontour"
           }
          ],
          "mesh3d": [
           {
            "colorbar": {
             "outlinewidth": 0,
             "ticks": ""
            },
            "type": "mesh3d"
           }
          ],
          "parcoords": [
           {
            "line": {
             "colorbar": {
              "outlinewidth": 0,
              "ticks": ""
             }
            },
            "type": "parcoords"
           }
          ],
          "pie": [
           {
            "automargin": true,
            "type": "pie"
           }
          ],
          "scatter": [
           {
            "fillpattern": {
             "fillmode": "overlay",
             "size": 10,
             "solidity": 0.2
            },
            "type": "scatter"
           }
          ],
          "scatter3d": [
           {
            "line": {
             "colorbar": {
              "outlinewidth": 0,
              "ticks": ""
             }
            },
            "marker": {
             "colorbar": {
              "outlinewidth": 0,
              "ticks": ""
             }
            },
            "type": "scatter3d"
           }
          ],
          "scattercarpet": [
           {
            "marker": {
             "colorbar": {
              "outlinewidth": 0,
              "ticks": ""
             }
            },
            "type": "scattercarpet"
           }
          ],
          "scattergeo": [
           {
            "marker": {
             "colorbar": {
              "outlinewidth": 0,
              "ticks": ""
             }
            },
            "type": "scattergeo"
           }
          ],
          "scattergl": [
           {
            "marker": {
             "colorbar": {
              "outlinewidth": 0,
              "ticks": ""
             }
            },
            "type": "scattergl"
           }
          ],
          "scattermapbox": [
           {
            "marker": {
             "colorbar": {
              "outlinewidth": 0,
              "ticks": ""
             }
            },
            "type": "scattermapbox"
           }
          ],
          "scatterpolar": [
           {
            "marker": {
             "colorbar": {
              "outlinewidth": 0,
              "ticks": ""
             }
            },
            "type": "scatterpolar"
           }
          ],
          "scatterpolargl": [
           {
            "marker": {
             "colorbar": {
              "outlinewidth": 0,
              "ticks": ""
             }
            },
            "type": "scatterpolargl"
           }
          ],
          "scatterternary": [
           {
            "marker": {
             "colorbar": {
              "outlinewidth": 0,
              "ticks": ""
             }
            },
            "type": "scatterternary"
           }
          ],
          "surface": [
           {
            "colorbar": {
             "outlinewidth": 0,
             "ticks": ""
            },
            "colorscale": [
             [
              0,
              "#0d0887"
             ],
             [
              0.1111111111111111,
              "#46039f"
             ],
             [
              0.2222222222222222,
              "#7201a8"
             ],
             [
              0.3333333333333333,
              "#9c179e"
             ],
             [
              0.4444444444444444,
              "#bd3786"
             ],
             [
              0.5555555555555556,
              "#d8576b"
             ],
             [
              0.6666666666666666,
              "#ed7953"
             ],
             [
              0.7777777777777778,
              "#fb9f3a"
             ],
             [
              0.8888888888888888,
              "#fdca26"
             ],
             [
              1,
              "#f0f921"
             ]
            ],
            "type": "surface"
           }
          ],
          "table": [
           {
            "cells": {
             "fill": {
              "color": "#EBF0F8"
             },
             "line": {
              "color": "white"
             }
            },
            "header": {
             "fill": {
              "color": "#C8D4E3"
             },
             "line": {
              "color": "white"
             }
            },
            "type": "table"
           }
          ]
         },
         "layout": {
          "annotationdefaults": {
           "arrowcolor": "#2a3f5f",
           "arrowhead": 0,
           "arrowwidth": 1
          },
          "autotypenumbers": "strict",
          "coloraxis": {
           "colorbar": {
            "outlinewidth": 0,
            "ticks": ""
           }
          },
          "colorscale": {
           "diverging": [
            [
             0,
             "#8e0152"
            ],
            [
             0.1,
             "#c51b7d"
            ],
            [
             0.2,
             "#de77ae"
            ],
            [
             0.3,
             "#f1b6da"
            ],
            [
             0.4,
             "#fde0ef"
            ],
            [
             0.5,
             "#f7f7f7"
            ],
            [
             0.6,
             "#e6f5d0"
            ],
            [
             0.7,
             "#b8e186"
            ],
            [
             0.8,
             "#7fbc41"
            ],
            [
             0.9,
             "#4d9221"
            ],
            [
             1,
             "#276419"
            ]
           ],
           "sequential": [
            [
             0,
             "#0d0887"
            ],
            [
             0.1111111111111111,
             "#46039f"
            ],
            [
             0.2222222222222222,
             "#7201a8"
            ],
            [
             0.3333333333333333,
             "#9c179e"
            ],
            [
             0.4444444444444444,
             "#bd3786"
            ],
            [
             0.5555555555555556,
             "#d8576b"
            ],
            [
             0.6666666666666666,
             "#ed7953"
            ],
            [
             0.7777777777777778,
             "#fb9f3a"
            ],
            [
             0.8888888888888888,
             "#fdca26"
            ],
            [
             1,
             "#f0f921"
            ]
           ],
           "sequentialminus": [
            [
             0,
             "#0d0887"
            ],
            [
             0.1111111111111111,
             "#46039f"
            ],
            [
             0.2222222222222222,
             "#7201a8"
            ],
            [
             0.3333333333333333,
             "#9c179e"
            ],
            [
             0.4444444444444444,
             "#bd3786"
            ],
            [
             0.5555555555555556,
             "#d8576b"
            ],
            [
             0.6666666666666666,
             "#ed7953"
            ],
            [
             0.7777777777777778,
             "#fb9f3a"
            ],
            [
             0.8888888888888888,
             "#fdca26"
            ],
            [
             1,
             "#f0f921"
            ]
           ]
          },
          "colorway": [
           "#636efa",
           "#EF553B",
           "#00cc96",
           "#ab63fa",
           "#FFA15A",
           "#19d3f3",
           "#FF6692",
           "#B6E880",
           "#FF97FF",
           "#FECB52"
          ],
          "font": {
           "color": "#2a3f5f"
          },
          "geo": {
           "bgcolor": "white",
           "lakecolor": "white",
           "landcolor": "#E5ECF6",
           "showlakes": true,
           "showland": true,
           "subunitcolor": "white"
          },
          "hoverlabel": {
           "align": "left"
          },
          "hovermode": "closest",
          "mapbox": {
           "style": "light"
          },
          "paper_bgcolor": "white",
          "plot_bgcolor": "#E5ECF6",
          "polar": {
           "angularaxis": {
            "gridcolor": "white",
            "linecolor": "white",
            "ticks": ""
           },
           "bgcolor": "#E5ECF6",
           "radialaxis": {
            "gridcolor": "white",
            "linecolor": "white",
            "ticks": ""
           }
          },
          "scene": {
           "xaxis": {
            "backgroundcolor": "#E5ECF6",
            "gridcolor": "white",
            "gridwidth": 2,
            "linecolor": "white",
            "showbackground": true,
            "ticks": "",
            "zerolinecolor": "white"
           },
           "yaxis": {
            "backgroundcolor": "#E5ECF6",
            "gridcolor": "white",
            "gridwidth": 2,
            "linecolor": "white",
            "showbackground": true,
            "ticks": "",
            "zerolinecolor": "white"
           },
           "zaxis": {
            "backgroundcolor": "#E5ECF6",
            "gridcolor": "white",
            "gridwidth": 2,
            "linecolor": "white",
            "showbackground": true,
            "ticks": "",
            "zerolinecolor": "white"
           }
          },
          "shapedefaults": {
           "line": {
            "color": "#2a3f5f"
           }
          },
          "ternary": {
           "aaxis": {
            "gridcolor": "white",
            "linecolor": "white",
            "ticks": ""
           },
           "baxis": {
            "gridcolor": "white",
            "linecolor": "white",
            "ticks": ""
           },
           "bgcolor": "#E5ECF6",
           "caxis": {
            "gridcolor": "white",
            "linecolor": "white",
            "ticks": ""
           }
          },
          "title": {
           "x": 0.05
          },
          "xaxis": {
           "automargin": true,
           "gridcolor": "white",
           "linecolor": "white",
           "ticks": "",
           "title": {
            "standoff": 15
           },
           "zerolinecolor": "white",
           "zerolinewidth": 2
          },
          "yaxis": {
           "automargin": true,
           "gridcolor": "white",
           "linecolor": "white",
           "ticks": "",
           "title": {
            "standoff": 15
           },
           "zerolinecolor": "white",
           "zerolinewidth": 2
          }
         }
        },
        "title": {
         "text": "Source vs Model Weekly Volume by Site"
        },
        "updatemenus": [
         {
          "buttons": [
           {
            "args": [
             {
              "visible": [
               true,
               true,
               true,
               true,
               true,
               true,
               true,
               true,
               true,
               true
              ]
             }
            ],
            "label": "Select All",
            "method": "restyle"
           },
           {
            "args": [
             {
              "visible": [
               true,
               false,
               true,
               false,
               true,
               false,
               true,
               false,
               true,
               false
              ]
             }
            ],
            "label": "Just Source",
            "method": "restyle"
           },
           {
            "args": [
             {
              "visible": [
               false,
               true,
               false,
               true,
               false,
               true,
               false,
               true,
               false,
               true
              ]
             }
            ],
            "label": "Just Model",
            "method": "restyle"
           },
           {
            "args": [
             {
              "visible": [
               true,
               true,
               false,
               false,
               false,
               false,
               false,
               false,
               false,
               false
              ]
             }
            ],
            "label": "BAL",
            "method": "restyle"
           },
           {
            "args": [
             {
              "visible": [
               false,
               false,
               true,
               true,
               false,
               false,
               false,
               false,
               false,
               false
              ]
             }
            ],
            "label": "DAL",
            "method": "restyle"
           },
           {
            "args": [
             {
              "visible": [
               false,
               false,
               false,
               false,
               true,
               true,
               false,
               false,
               false,
               false
              ]
             }
            ],
            "label": "HOU",
            "method": "restyle"
           },
           {
            "args": [
             {
              "visible": [
               false,
               false,
               false,
               false,
               false,
               false,
               true,
               true,
               false,
               false
              ]
             }
            ],
            "label": "MIL",
            "method": "restyle"
           },
           {
            "args": [
             {
              "visible": [
               false,
               false,
               false,
               false,
               false,
               false,
               false,
               false,
               true,
               true
              ]
             }
            ],
            "label": "MIN",
            "method": "restyle"
           }
          ],
          "direction": "down",
          "showactive": true,
          "x": 1,
          "y": 1
         }
        ],
        "xaxis": {
         "dtick": 1,
         "gridcolor": "gray",
         "gridwidth": 0.5,
         "range": [
          0,
          15
         ],
         "tick0": 1,
         "tickmode": "linear",
         "title": {
          "text": "Week"
         },
         "zerolinecolor": "gray"
        },
        "yaxis": {
         "gridcolor": "gray",
         "gridwidth": 0.5,
         "title": {
          "text": "Weekly Volume"
         },
         "zerolinecolor": "gray"
        }
       }
      }
     },
     "metadata": {},
     "output_type": "display_data"
    }
   ],
   "source": [
    "import pandas as pd\n",
    "import plotly.graph_objects as go\n",
    "import plotly.colors\n",
    "\n",
    "# Load the data from the compiled CSV file\n",
    "input_file = r'C:\\Users\\aaron.eades\\OneDrive - Liquid Environmental Solutions\\Documents\\Programing\\Python\\Automated Density\\exports\\compiled_file_with_source_2.csv'\n",
    "df = pd.read_csv(input_file)\n",
    "\n",
    "# List of columns representing the weeks (1 to 26)\n",
    "week_columns = [str(i) for i in range(1, 27)]  # Adjust the range if fewer or more weeks exist\n",
    "\n",
    "# Group by 'Site' and sum the Model Volume (week columns)\n",
    "grouped_model = df.groupby('Site')[week_columns].sum()\n",
    "\n",
    "# Define global parameters for Source projection\n",
    "predict = 26  # Number of weeks to predict\n",
    "weekCodes = [str(i) for i in range(1, predict + 1)]\n",
    "\n",
    "# Function to create the source projection based on Source_NSD, frequency, and gallons\n",
    "def create_customer_projection(start_week, frequency, gallons):\n",
    "    projection = pd.Series(0, index=weekCodes)\n",
    "    for week in range(start_week, predict + 1, frequency):\n",
    "        if week <= predict:\n",
    "            projection[str(week)] = gallons\n",
    "    return projection\n",
    "\n",
    "# List to store source projections for each customer\n",
    "source_projections = []\n",
    "\n",
    "# Generate projections for each customer using 'Source_NSD' as start_week\n",
    "for idx, row in df.iterrows():\n",
    "    try:\n",
    "        start_week = int(row['Source_NSD'])  # Source start week is in 'Source_NSD'\n",
    "        frequency = int(row['FREQ'])  # Frequency of service\n",
    "        gallons = float(row['GALLONS'])  # Gallons for each customer\n",
    "\n",
    "        # Create the projection for the source\n",
    "        source_projection = create_customer_projection(start_week, frequency, gallons)\n",
    "\n",
    "        # Append to source projections with the Site as an identifier\n",
    "        source_projections.append((row['Site'], source_projection))\n",
    "    \n",
    "    except ValueError:\n",
    "        print(f\"Skipping row {idx} due to missing or invalid data.\")\n",
    "\n",
    "# Convert the list of projections into a DataFrame\n",
    "projection_df = pd.DataFrame([proj[1] for proj in source_projections])\n",
    "projection_df['Site'] = [proj[0] for proj in source_projections]\n",
    "\n",
    "# Group by 'Site' and sum the Source Volume (week columns)\n",
    "grouped_source = projection_df.groupby('Site')[weekCodes].sum()\n",
    "\n",
    "# Create the figure\n",
    "fig = go.Figure()\n",
    "\n",
    "# Generate a color palette for sites\n",
    "color_palette = plotly.colors.qualitative.Plotly\n",
    "\n",
    "# Add traces for each site's Model and Source projection\n",
    "for i, site in enumerate(grouped_model.index):\n",
    "    color = color_palette[i % len(color_palette)]  # Rotate through the color palette\n",
    "\n",
    "    # Source volume trace (solid line with primary color)\n",
    "    fig.add_trace(go.Scatter(x=weekCodes, y=grouped_source.loc[site],\n",
    "                             mode='lines+markers', name=f'{site} (Source)',\n",
    "                             line=dict(dash='solid', shape='spline', color=color), visible=True))\n",
    "\n",
    "    # Model volume trace (dashed line with a lighter version of the same color)\n",
    "    fig.add_trace(go.Scatter(x=weekCodes, y=grouped_model.loc[site],\n",
    "                             mode='lines+markers', name=f'{site} (Model)',\n",
    "                             line=dict(dash='dash', shape='spline', color=color), visible=True))\n",
    "\n",
    "# Button logic to toggle between Just Source, Just Model, or Both\n",
    "buttons = [\n",
    "    {\n",
    "        'method': 'restyle',\n",
    "        'label': 'Select All',\n",
    "        'args': [{'visible': [True] * len(grouped_model.index) * 2}]\n",
    "    },\n",
    "    {\n",
    "        'method': 'restyle',\n",
    "        'label': 'Just Source',\n",
    "        'args': [{'visible': [i % 2 == 0 for i in range(len(grouped_model.index) * 2)]}]\n",
    "    },\n",
    "    {\n",
    "        'method': 'restyle',\n",
    "        'label': 'Just Model',\n",
    "        'args': [{'visible': [i % 2 == 1 for i in range(len(grouped_model.index) * 2)]}]\n",
    "    }\n",
    "    # {\n",
    "    #     'method': 'restyle',\n",
    "    #     'label': 'Clear All',\n",
    "    #     'args': [{'visible': [False] * len(grouped_model.index) * 2}]\n",
    "    # }\n",
    "]\n",
    "\n",
    "# Add individual site buttons for both Model and Source\n",
    "buttons += [\n",
    "    {\n",
    "        'method': 'restyle',\n",
    "        'label': site,\n",
    "        'args': [{'visible': [(i == j * 2 or i == j * 2 + 1) for i in range(len(grouped_model.index) * 2)]}]\n",
    "    } for j, site in enumerate(grouped_model.index)\n",
    "]\n",
    "\n",
    "# Update layout for better interactivity\n",
    "fig.update_layout(\n",
    "    title=\"Source vs Model Weekly Volume by Site\",\n",
    "    xaxis_title=\"Week\",\n",
    "    yaxis_title=\"Weekly Volume\",\n",
    "    paper_bgcolor='rgb(30, 30, 30)',  # Dark background\n",
    "    plot_bgcolor='rgb(40, 40, 40)',   # Slightly lighter background for plot area\n",
    "    font=dict(color='green'),         # Green font for labels\n",
    "    xaxis=dict(tickmode='linear', tick0=1, dtick=1, range=[0, 15], gridcolor='gray', zerolinecolor='gray', gridwidth=0.5),\n",
    "    yaxis=dict(gridcolor='gray', zerolinecolor='gray', gridwidth=0.5),\n",
    "    updatemenus=[{\n",
    "        'buttons': buttons,\n",
    "        'direction': 'down',\n",
    "        'showactive': True,\n",
    "        'x': 1,\n",
    "        'y': 1,\n",
    "    }],\n",
    "    hovermode='x',\n",
    "    legend_title=\"Site\",\n",
    "    height=900,  # Adjust the height if needed,\n",
    "    margin=dict(l=40, r=20, t=40, b=40)  # Reducing the margins\n",
    ")\n",
    "\n",
    "# Display the plot\n",
    "fig.show()\n"
   ]
  },
  {
   "cell_type": "code",
   "execution_count": 99,
   "metadata": {},
   "outputs": [
    {
     "name": "stdout",
     "output_type": "stream",
     "text": [
      "Graph saved as HTML to: C:\\Users\\aaron.eades\\OneDrive - Liquid Environmental Solutions\\Documents\\Programing\\Python\\Automated Density\\exports\\graph_with_buttons.html\n"
     ]
    }
   ],
   "source": [
    "output_html_file = r'C:\\Users\\aaron.eades\\OneDrive - Liquid Environmental Solutions\\Documents\\Programing\\Python\\Automated Density\\exports\\graph_with_buttons.html'\n",
    "\n",
    "fig.write_html(output_html_file)\n",
    "\n",
    "print(f\"Graph saved as HTML to: {output_html_file}\")"
   ]
  },
  {
   "cell_type": "markdown",
   "metadata": {},
   "source": [
    "# Archive"
   ]
  },
  {
   "cell_type": "code",
   "execution_count": 23,
   "metadata": {},
   "outputs": [
    {
     "data": {
      "image/png": "[encoded data removed]",
      "text/plain": [
       "<Figure size 1200x600 with 1 Axes>"
      ]
     },
     "metadata": {},
     "output_type": "display_data"
    }
   ],
   "source": [
    "import pandas as pd\n",
    "import matplotlib.pyplot as plt\n",
    "\n",
    "# Define global parameters\n",
    "predict = 26  # Number of weeks to predict\n",
    "weekCodes = [str(i) for i in range(1, predict + 1)]\n",
    "\n",
    "# Load the data from the compiled CSV file\n",
    "input_file = r'C:\\Users\\aaron.eades\\OneDrive - Liquid Environmental Solutions\\Documents\\Programing\\Python\\Automated Density\\exports\\compiled_file_with_source_2.csv'\n",
    "df = pd.read_csv(input_file)\n",
    "\n",
    "# Function to create the source projection based on Source_NSD, frequency, and gallons\n",
    "def create_customer_projection(start_week, frequency, gallons):\n",
    "    projection = pd.Series(0, index=weekCodes)\n",
    "    for week in range(start_week, predict + 1, frequency):\n",
    "        if week <= predict:\n",
    "            projection[str(week)] = gallons\n",
    "    return projection\n",
    "\n",
    "# List to store source projections for each customer\n",
    "source_projections = []\n",
    "\n",
    "# Generate projections for each customer using 'Source_NSD' as start_week\n",
    "for idx, row in df.iterrows():\n",
    "    try:\n",
    "        start_week = int(row['Source_NSD'])  # Source start week is in 'Source_NSD'\n",
    "        frequency = int(row['FREQ'])  # Frequency of service\n",
    "        gallons = float(row['GALLONS'])  # Gallons for each customer\n",
    "\n",
    "        # Create the projection for the source\n",
    "        source_projection = create_customer_projection(start_week, frequency, gallons)\n",
    "\n",
    "        # Append to source projections with the Site as an identifier\n",
    "        source_projections.append((row['Site'], source_projection))\n",
    "    \n",
    "    except ValueError:\n",
    "        print(f\"Skipping row {idx} due to missing or invalid data.\")\n",
    "\n",
    "# Convert the list of projections into a DataFrame\n",
    "projection_df = pd.DataFrame([proj[1] for proj in source_projections])\n",
    "projection_df['Site'] = [proj[0] for proj in source_projections]\n",
    "\n",
    "# Group by 'Site' and sum the Source Volume (week columns)\n",
    "grouped_source = projection_df.groupby('Site')[weekCodes].sum()\n",
    "\n",
    "# Plot the source volumes for each site\n",
    "fig, ax = plt.subplots(figsize=(12, 6))\n",
    "\n",
    "for site in grouped_source.index:\n",
    "    ax.plot(weekCodes, grouped_source.loc[site], label=site, marker='o')\n",
    "\n",
    "# Customize the plot\n",
    "ax.set_xlabel('Week')\n",
    "ax.set_ylabel('Source Weekly Volume')\n",
    "ax.set_title('Source Weekly Volume by Site')\n",
    "ax.legend(title='Site', bbox_to_anchor=(1.05, 1), loc='upper left')\n",
    "ax.grid(True)\n",
    "plt.xticks(rotation=45)\n",
    "plt.tight_layout()\n",
    "\n",
    "# Display the plot\n",
    "plt.show()\n"
   ]
  },
  {
   "cell_type": "code",
   "execution_count": 25,
   "metadata": {},
   "outputs": [
    {
     "name": "stderr",
     "output_type": "stream",
     "text": [
      "C:\\Users\\aaron.eades\\AppData\\Local\\Temp\\ipykernel_3700\\2097605054.py:54: MatplotlibDeprecationWarning: The get_cmap function was deprecated in Matplotlib 3.7 and will be removed two minor releases later. Use ``matplotlib.colormaps[name]`` or ``matplotlib.colormaps.get_cmap(obj)`` instead.\n",
      "  color_cycle = itertools.cycle(plt.cm.get_cmap('tab10').colors)\n"
     ]
    },
    {
     "data": {
      "image/png": "[encoded data removed]",
      "text/plain": [
       "<Figure size 1200x600 with 1 Axes>"
      ]
     },
     "metadata": {},
     "output_type": "display_data"
    }
   ],
   "source": [
    "import pandas as pd\n",
    "import matplotlib.pyplot as plt\n",
    "import itertools\n",
    "\n",
    "# Load the data from the compiled CSV file\n",
    "input_file = r'C:\\Users\\aaron.eades\\OneDrive - Liquid Environmental Solutions\\Documents\\Programing\\Python\\Automated Density\\exports\\compiled_file_with_source_2.csv'\n",
    "df = pd.read_csv(input_file)\n",
    "\n",
    "# List of columns representing the weeks (1 to 26)\n",
    "week_columns = [str(i) for i in range(1, 27)]  # Adjust the range if fewer or more weeks exist\n",
    "\n",
    "# Group by 'Site' and sum the Model Volume (week columns)\n",
    "grouped_model = df.groupby('Site')[week_columns].sum()\n",
    "\n",
    "# Define global parameters for Source projection\n",
    "predict = 26  # Number of weeks to predict\n",
    "weekCodes = [str(i) for i in range(1, predict + 1)]\n",
    "\n",
    "# Function to create the source projection based on Source_NSD, frequency, and gallons\n",
    "def create_customer_projection(start_week, frequency, gallons):\n",
    "    projection = pd.Series(0, index=weekCodes)\n",
    "    for week in range(start_week, predict + 1, frequency):\n",
    "        if week <= predict:\n",
    "            projection[str(week)] = gallons\n",
    "    return projection\n",
    "\n",
    "# List to store source projections for each customer\n",
    "source_projections = []\n",
    "\n",
    "# Generate projections for each customer using 'Source_NSD' as start_week\n",
    "for idx, row in df.iterrows():\n",
    "    try:\n",
    "        start_week = int(row['Source_NSD'])  # Source start week is in 'Source_NSD'\n",
    "        frequency = int(row['FREQ'])  # Frequency of service\n",
    "        gallons = float(row['GALLONS'])  # Gallons for each customer\n",
    "\n",
    "        # Create the projection for the source\n",
    "        source_projection = create_customer_projection(start_week, frequency, gallons)\n",
    "\n",
    "        # Append to source projections with the Site as an identifier\n",
    "        source_projections.append((row['Site'], source_projection))\n",
    "    \n",
    "    except ValueError:\n",
    "        print(f\"Skipping row {idx} due to missing or invalid data.\")\n",
    "\n",
    "# Convert the list of projections into a DataFrame\n",
    "projection_df = pd.DataFrame([proj[1] for proj in source_projections])\n",
    "projection_df['Site'] = [proj[0] for proj in source_projections]\n",
    "\n",
    "# Group by 'Site' and sum the Source Volume (week columns)\n",
    "grouped_source = projection_df.groupby('Site')[weekCodes].sum()\n",
    "\n",
    "# Set up a color cycle so that each site gets a unique color but matching for model and source\n",
    "color_cycle = itertools.cycle(plt.cm.get_cmap('tab10').colors)\n",
    "\n",
    "# Plot the source and model volumes for each site\n",
    "fig, ax = plt.subplots(figsize=(12, 6))\n",
    "\n",
    "for site, color in zip(grouped_model.index, color_cycle):\n",
    "    # Plot the Model Weekly Volume\n",
    "    ax.plot(weekCodes, grouped_model.loc[site], label=f'{site} (Model)', marker='o', linestyle='-', color=color)\n",
    "\n",
    "    # Plot the Source Weekly Volume with the same color but different linestyle\n",
    "    ax.plot(weekCodes, grouped_source.loc[site], label=f'{site} (Source)', marker='o', linestyle='--', color=color)\n",
    "\n",
    "# Customize the plot\n",
    "ax.set_xlabel('Week')\n",
    "ax.set_ylabel('Weekly Volume')\n",
    "ax.set_title('Model vs Source Weekly Volume by Site')\n",
    "ax.legend(title='Site', bbox_to_anchor=(1.05, 1), loc='upper left')\n",
    "ax.grid(True)\n",
    "plt.xticks(rotation=45)\n",
    "plt.tight_layout()\n",
    "\n",
    "# Display the plot\n",
    "plt.show()\n"
   ]
  },
  {
   "cell_type": "code",
   "execution_count": 66,
   "metadata": {},
   "outputs": [
    {
     "data": {
      "application/vnd.plotly.v1+json": {
       "config": {
        "plotlyServerURL": "https://plot.ly"
       },
       "data": [
        {
         "line": {
          "dash": "solid"
         },
         "mode": "lines+markers",
         "name": "BAL (Source)",
         "type": "scatter",
         "visible": true,
         "x": [
          "1",
          "2",
          "3",
          "4",
          "5",
          "6",
          "7",
          "8",
          "9",
          "10",
          "11",
          "12",
          "13",
          "14",
          "15",
          "16",
          "17",
          "18",
          "19",
          "20",
          "21",
          "22",
          "23",
          "24",
          "25",
          "26"
         ],
         "y": [
          205825,
          131738,
          201402,
          178031,
          226427,
          182808,
          149007,
          153812,
          218000,
          164501,
          190084,
          202225,
          334121,
          134417,
          172215,
          195680,
          258805,
          181669,
          166266,
          163448,
          240182,
          173845,
          212230,
          202764,
          284667,
          128389
         ]
        },
        {
         "line": {
          "dash": "dash"
         },
         "mode": "lines+markers",
         "name": "BAL (Model)",
         "type": "scatter",
         "visible": true,
         "x": [
          "1",
          "2",
          "3",
          "4",
          "5",
          "6",
          "7",
          "8",
          "9",
          "10",
          "11",
          "12",
          "13",
          "14",
          "15",
          "16",
          "17",
          "18",
          "19",
          "20",
          "21",
          "22",
          "23",
          "24",
          "25",
          "26"
         ],
         "y": [
          160707,
          200767,
          196599,
          176866,
          188916,
          189697,
          178175,
          189542,
          196266,
          195504,
          198996,
          197957,
          189141,
          203484,
          194415,
          200008,
          0,
          0,
          0,
          0,
          0,
          0,
          0,
          0,
          0,
          0
         ]
        },
        {
         "line": {
          "dash": "solid"
         },
         "mode": "lines+markers",
         "name": "DAL (Source)",
         "type": "scatter",
         "visible": true,
         "x": [
          "1",
          "2",
          "3",
          "4",
          "5",
          "6",
          "7",
          "8",
          "9",
          "10",
          "11",
          "12",
          "13",
          "14",
          "15",
          "16",
          "17",
          "18",
          "19",
          "20",
          "21",
          "22",
          "23",
          "24",
          "25",
          "26"
         ],
         "y": [
          208470,
          588169,
          1036959,
          739720,
          677590,
          654888,
          495107,
          626558,
          511564,
          696578,
          764890,
          762065,
          598713,
          577699,
          1007297,
          733450,
          685110,
          694518,
          502576,
          583273,
          651394,
          727088,
          785002,
          794875,
          591612,
          569029
         ]
        },
        {
         "line": {
          "dash": "dash"
         },
         "mode": "lines+markers",
         "name": "DAL (Model)",
         "type": "scatter",
         "visible": true,
         "x": [
          "1",
          "2",
          "3",
          "4",
          "5",
          "6",
          "7",
          "8",
          "9",
          "10",
          "11",
          "12",
          "13",
          "14",
          "15",
          "16",
          "17",
          "18",
          "19",
          "20",
          "21",
          "22",
          "23",
          "24",
          "25",
          "26"
         ],
         "y": [
          583390,
          712087,
          689066,
          712492,
          667445,
          653222,
          622143,
          616207,
          620423,
          682595,
          690141,
          697636,
          744214,
          722446,
          690155,
          713188,
          0,
          0,
          0,
          0,
          0,
          0,
          0,
          0,
          0,
          0
         ]
        },
        {
         "line": {
          "dash": "solid"
         },
         "mode": "lines+markers",
         "name": "HOU (Source)",
         "type": "scatter",
         "visible": true,
         "x": [
          "1",
          "2",
          "3",
          "4",
          "5",
          "6",
          "7",
          "8",
          "9",
          "10",
          "11",
          "12",
          "13",
          "14",
          "15",
          "16",
          "17",
          "18",
          "19",
          "20",
          "21",
          "22",
          "23",
          "24",
          "25",
          "26"
         ],
         "y": [
          596173,
          494569,
          549788,
          585935,
          572624,
          571020,
          619927,
          736646,
          804749,
          774828,
          493786,
          367751,
          478894,
          499416,
          588018,
          656392,
          708343,
          586496,
          654458,
          687123,
          768135,
          694975,
          478452,
          422601,
          517411,
          512226
         ]
        },
        {
         "line": {
          "dash": "dash"
         },
         "mode": "lines+markers",
         "name": "HOU (Model)",
         "type": "scatter",
         "visible": true,
         "x": [
          "1",
          "2",
          "3",
          "4",
          "5",
          "6",
          "7",
          "8",
          "9",
          "10",
          "11",
          "12",
          "13",
          "14",
          "15",
          "16",
          "17",
          "18",
          "19",
          "20",
          "21",
          "22",
          "23",
          "24",
          "25",
          "26"
         ],
         "y": [
          550337,
          571815,
          517243,
          514736,
          657605,
          653597,
          629490,
          635329,
          664242,
          637042,
          551002,
          540273,
          496799,
          576590,
          555371,
          621700,
          0,
          0,
          0,
          0,
          0,
          0,
          0,
          0,
          0,
          0
         ]
        },
        {
         "line": {
          "dash": "solid"
         },
         "mode": "lines+markers",
         "name": "MIL (Source)",
         "type": "scatter",
         "visible": true,
         "x": [
          "1",
          "2",
          "3",
          "4",
          "5",
          "6",
          "7",
          "8",
          "9",
          "10",
          "11",
          "12",
          "13",
          "14",
          "15",
          "16",
          "17",
          "18",
          "19",
          "20",
          "21",
          "22",
          "23",
          "24",
          "25",
          "26"
         ],
         "y": [
          109509,
          37761,
          52179,
          49665,
          45948,
          69373,
          38857,
          34133,
          69375,
          127434,
          42022,
          57534,
          130830,
          65396,
          49240,
          56713,
          55716,
          56939,
          56332,
          27414,
          66221,
          130388,
          41032,
          81860,
          141060,
          55779
         ]
        },
        {
         "line": {
          "dash": "dash"
         },
         "mode": "lines+markers",
         "name": "MIL (Model)",
         "type": "scatter",
         "visible": true,
         "x": [
          "1",
          "2",
          "3",
          "4",
          "5",
          "6",
          "7",
          "8",
          "9",
          "10",
          "11",
          "12",
          "13",
          "14",
          "15",
          "16",
          "17",
          "18",
          "19",
          "20",
          "21",
          "22",
          "23",
          "24",
          "25",
          "26"
         ],
         "y": [
          59180,
          54983,
          64502,
          63562,
          58078,
          61971,
          58356,
          62297,
          64801,
          67114,
          66567,
          72137,
          69409,
          69465,
          74082,
          66655,
          0,
          0,
          0,
          0,
          0,
          0,
          0,
          0,
          0,
          0
         ]
        },
        {
         "line": {
          "dash": "solid"
         },
         "mode": "lines+markers",
         "name": "MIN (Source)",
         "type": "scatter",
         "visible": true,
         "x": [
          "1",
          "2",
          "3",
          "4",
          "5",
          "6",
          "7",
          "8",
          "9",
          "10",
          "11",
          "12",
          "13",
          "14",
          "15",
          "16",
          "17",
          "18",
          "19",
          "20",
          "21",
          "22",
          "23",
          "24",
          "25",
          "26"
         ],
         "y": [
          41750,
          28605,
          18875,
          25538,
          19694,
          33068,
          28834,
          37567,
          51464,
          47973,
          42044,
          25190,
          49459,
          31299,
          16925,
          29554,
          29799,
          38408,
          31794,
          35687,
          50014,
          46763,
          24268,
          30486,
          58389,
          44004
         ]
        },
        {
         "line": {
          "dash": "dash"
         },
         "mode": "lines+markers",
         "name": "MIN (Model)",
         "type": "scatter",
         "visible": true,
         "x": [
          "1",
          "2",
          "3",
          "4",
          "5",
          "6",
          "7",
          "8",
          "9",
          "10",
          "11",
          "12",
          "13",
          "14",
          "15",
          "16",
          "17",
          "18",
          "19",
          "20",
          "21",
          "22",
          "23",
          "24",
          "25",
          "26"
         ],
         "y": [
          29005,
          28129,
          36834,
          28904,
          32264,
          29143,
          35249,
          34729,
          32134,
          33757,
          34199,
          41143,
          33625,
          37825,
          40069,
          33444,
          1550,
          1800,
          1450,
          1200,
          1200,
          2100,
          3800,
          3900,
          4200,
          3550
         ]
        }
       ],
       "layout": {
        "height": 800,
        "hovermode": "x",
        "legend": {
         "title": {
          "text": "Site"
         }
        },
        "template": {
         "data": {
          "bar": [
           {
            "error_x": {
             "color": "#2a3f5f"
            },
            "error_y": {
             "color": "#2a3f5f"
            },
            "marker": {
             "line": {
              "color": "#E5ECF6",
              "width": 0.5
             },
             "pattern": {
              "fillmode": "overlay",
              "size": 10,
              "solidity": 0.2
             }
            },
            "type": "bar"
           }
          ],
          "barpolar": [
           {
            "marker": {
             "line": {
              "color": "#E5ECF6",
              "width": 0.5
             },
             "pattern": {
              "fillmode": "overlay",
              "size": 10,
              "solidity": 0.2
             }
            },
            "type": "barpolar"
           }
          ],
          "carpet": [
           {
            "aaxis": {
             "endlinecolor": "#2a3f5f",
             "gridcolor": "white",
             "linecolor": "white",
             "minorgridcolor": "white",
             "startlinecolor": "#2a3f5f"
            },
            "baxis": {
             "endlinecolor": "#2a3f5f",
             "gridcolor": "white",
             "linecolor": "white",
             "minorgridcolor": "white",
             "startlinecolor": "#2a3f5f"
            },
            "type": "carpet"
           }
          ],
          "choropleth": [
           {
            "colorbar": {
             "outlinewidth": 0,
             "ticks": ""
            },
            "type": "choropleth"
           }
          ],
          "contour": [
           {
            "colorbar": {
             "outlinewidth": 0,
             "ticks": ""
            },
            "colorscale": [
             [
              0,
              "#0d0887"
             ],
             [
              0.1111111111111111,
              "#46039f"
             ],
             [
              0.2222222222222222,
              "#7201a8"
             ],
             [
              0.3333333333333333,
              "#9c179e"
             ],
             [
              0.4444444444444444,
              "#bd3786"
             ],
             [
              0.5555555555555556,
              "#d8576b"
             ],
             [
              0.6666666666666666,
              "#ed7953"
             ],
             [
              0.7777777777777778,
              "#fb9f3a"
             ],
             [
              0.8888888888888888,
              "#fdca26"
             ],
             [
              1,
              "#f0f921"
             ]
            ],
            "type": "contour"
           }
          ],
          "contourcarpet": [
           {
            "colorbar": {
             "outlinewidth": 0,
             "ticks": ""
            },
            "type": "contourcarpet"
           }
          ],
          "heatmap": [
           {
            "colorbar": {
             "outlinewidth": 0,
             "ticks": ""
            },
            "colorscale": [
             [
              0,
              "#0d0887"
             ],
             [
              0.1111111111111111,
              "#46039f"
             ],
             [
              0.2222222222222222,
              "#7201a8"
             ],
             [
              0.3333333333333333,
              "#9c179e"
             ],
             [
              0.4444444444444444,
              "#bd3786"
             ],
             [
              0.5555555555555556,
              "#d8576b"
             ],
             [
              0.6666666666666666,
              "#ed7953"
             ],
             [
              0.7777777777777778,
              "#fb9f3a"
             ],
             [
              0.8888888888888888,
              "#fdca26"
             ],
             [
              1,
              "#f0f921"
             ]
            ],
            "type": "heatmap"
           }
          ],
          "heatmapgl": [
           {
            "colorbar": {
             "outlinewidth": 0,
             "ticks": ""
            },
            "colorscale": [
             [
              0,
              "#0d0887"
             ],
             [
              0.1111111111111111,
              "#46039f"
             ],
             [
              0.2222222222222222,
              "#7201a8"
             ],
             [
              0.3333333333333333,
              "#9c179e"
             ],
             [
              0.4444444444444444,
              "#bd3786"
             ],
             [
              0.5555555555555556,
              "#d8576b"
             ],
             [
              0.6666666666666666,
              "#ed7953"
             ],
             [
              0.7777777777777778,
              "#fb9f3a"
             ],
             [
              0.8888888888888888,
              "#fdca26"
             ],
             [
              1,
              "#f0f921"
             ]
            ],
            "type": "heatmapgl"
           }
          ],
          "histogram": [
           {
            "marker": {
             "pattern": {
              "fillmode": "overlay",
              "size": 10,
              "solidity": 0.2
             }
            },
            "type": "histogram"
           }
          ],
          "histogram2d": [
           {
            "colorbar": {
             "outlinewidth": 0,
             "ticks": ""
            },
            "colorscale": [
             [
              0,
              "#0d0887"
             ],
             [
              0.1111111111111111,
              "#46039f"
             ],
             [
              0.2222222222222222,
              "#7201a8"
             ],
             [
              0.3333333333333333,
              "#9c179e"
             ],
             [
              0.4444444444444444,
              "#bd3786"
             ],
             [
              0.5555555555555556,
              "#d8576b"
             ],
             [
              0.6666666666666666,
              "#ed7953"
             ],
             [
              0.7777777777777778,
              "#fb9f3a"
             ],
             [
              0.8888888888888888,
              "#fdca26"
             ],
             [
              1,
              "#f0f921"
             ]
            ],
            "type": "histogram2d"
           }
          ],
          "histogram2dcontour": [
           {
            "colorbar": {
             "outlinewidth": 0,
             "ticks": ""
            },
            "colorscale": [
             [
              0,
              "#0d0887"
             ],
             [
              0.1111111111111111,
              "#46039f"
             ],
             [
              0.2222222222222222,
              "#7201a8"
             ],
             [
              0.3333333333333333,
              "#9c179e"
             ],
             [
              0.4444444444444444,
              "#bd3786"
             ],
             [
              0.5555555555555556,
              "#d8576b"
             ],
             [
              0.6666666666666666,
              "#ed7953"
             ],
             [
              0.7777777777777778,
              "#fb9f3a"
             ],
             [
              0.8888888888888888,
              "#fdca26"
             ],
             [
              1,
              "#f0f921"
             ]
            ],
            "type": "histogram2dcontour"
           }
          ],
          "mesh3d": [
           {
            "colorbar": {
             "outlinewidth": 0,
             "ticks": ""
            },
            "type": "mesh3d"
           }
          ],
          "parcoords": [
           {
            "line": {
             "colorbar": {
              "outlinewidth": 0,
              "ticks": ""
             }
            },
            "type": "parcoords"
           }
          ],
          "pie": [
           {
            "automargin": true,
            "type": "pie"
           }
          ],
          "scatter": [
           {
            "fillpattern": {
             "fillmode": "overlay",
             "size": 10,
             "solidity": 0.2
            },
            "type": "scatter"
           }
          ],
          "scatter3d": [
           {
            "line": {
             "colorbar": {
              "outlinewidth": 0,
              "ticks": ""
             }
            },
            "marker": {
             "colorbar": {
              "outlinewidth": 0,
              "ticks": ""
             }
            },
            "type": "scatter3d"
           }
          ],
          "scattercarpet": [
           {
            "marker": {
             "colorbar": {
              "outlinewidth": 0,
              "ticks": ""
             }
            },
            "type": "scattercarpet"
           }
          ],
          "scattergeo": [
           {
            "marker": {
             "colorbar": {
              "outlinewidth": 0,
              "ticks": ""
             }
            },
            "type": "scattergeo"
           }
          ],
          "scattergl": [
           {
            "marker": {
             "colorbar": {
              "outlinewidth": 0,
              "ticks": ""
             }
            },
            "type": "scattergl"
           }
          ],
          "scattermapbox": [
           {
            "marker": {
             "colorbar": {
              "outlinewidth": 0,
              "ticks": ""
             }
            },
            "type": "scattermapbox"
           }
          ],
          "scatterpolar": [
           {
            "marker": {
             "colorbar": {
              "outlinewidth": 0,
              "ticks": ""
             }
            },
            "type": "scatterpolar"
           }
          ],
          "scatterpolargl": [
           {
            "marker": {
             "colorbar": {
              "outlinewidth": 0,
              "ticks": ""
             }
            },
            "type": "scatterpolargl"
           }
          ],
          "scatterternary": [
           {
            "marker": {
             "colorbar": {
              "outlinewidth": 0,
              "ticks": ""
             }
            },
            "type": "scatterternary"
           }
          ],
          "surface": [
           {
            "colorbar": {
             "outlinewidth": 0,
             "ticks": ""
            },
            "colorscale": [
             [
              0,
              "#0d0887"
             ],
             [
              0.1111111111111111,
              "#46039f"
             ],
             [
              0.2222222222222222,
              "#7201a8"
             ],
             [
              0.3333333333333333,
              "#9c179e"
             ],
             [
              0.4444444444444444,
              "#bd3786"
             ],
             [
              0.5555555555555556,
              "#d8576b"
             ],
             [
              0.6666666666666666,
              "#ed7953"
             ],
             [
              0.7777777777777778,
              "#fb9f3a"
             ],
             [
              0.8888888888888888,
              "#fdca26"
             ],
             [
              1,
              "#f0f921"
             ]
            ],
            "type": "surface"
           }
          ],
          "table": [
           {
            "cells": {
             "fill": {
              "color": "#EBF0F8"
             },
             "line": {
              "color": "white"
             }
            },
            "header": {
             "fill": {
              "color": "#C8D4E3"
             },
             "line": {
              "color": "white"
             }
            },
            "type": "table"
           }
          ]
         },
         "layout": {
          "annotationdefaults": {
           "arrowcolor": "#2a3f5f",
           "arrowhead": 0,
           "arrowwidth": 1
          },
          "autotypenumbers": "strict",
          "coloraxis": {
           "colorbar": {
            "outlinewidth": 0,
            "ticks": ""
           }
          },
          "colorscale": {
           "diverging": [
            [
             0,
             "#8e0152"
            ],
            [
             0.1,
             "#c51b7d"
            ],
            [
             0.2,
             "#de77ae"
            ],
            [
             0.3,
             "#f1b6da"
            ],
            [
             0.4,
             "#fde0ef"
            ],
            [
             0.5,
             "#f7f7f7"
            ],
            [
             0.6,
             "#e6f5d0"
            ],
            [
             0.7,
             "#b8e186"
            ],
            [
             0.8,
             "#7fbc41"
            ],
            [
             0.9,
             "#4d9221"
            ],
            [
             1,
             "#276419"
            ]
           ],
           "sequential": [
            [
             0,
             "#0d0887"
            ],
            [
             0.1111111111111111,
             "#46039f"
            ],
            [
             0.2222222222222222,
             "#7201a8"
            ],
            [
             0.3333333333333333,
             "#9c179e"
            ],
            [
             0.4444444444444444,
             "#bd3786"
            ],
            [
             0.5555555555555556,
             "#d8576b"
            ],
            [
             0.6666666666666666,
             "#ed7953"
            ],
            [
             0.7777777777777778,
             "#fb9f3a"
            ],
            [
             0.8888888888888888,
             "#fdca26"
            ],
            [
             1,
             "#f0f921"
            ]
           ],
           "sequentialminus": [
            [
             0,
             "#0d0887"
            ],
            [
             0.1111111111111111,
             "#46039f"
            ],
            [
             0.2222222222222222,
             "#7201a8"
            ],
            [
             0.3333333333333333,
             "#9c179e"
            ],
            [
             0.4444444444444444,
             "#bd3786"
            ],
            [
             0.5555555555555556,
             "#d8576b"
            ],
            [
             0.6666666666666666,
             "#ed7953"
            ],
            [
             0.7777777777777778,
             "#fb9f3a"
            ],
            [
             0.8888888888888888,
             "#fdca26"
            ],
            [
             1,
             "#f0f921"
            ]
           ]
          },
          "colorway": [
           "#636efa",
           "#EF553B",
           "#00cc96",
           "#ab63fa",
           "#FFA15A",
           "#19d3f3",
           "#FF6692",
           "#B6E880",
           "#FF97FF",
           "#FECB52"
          ],
          "font": {
           "color": "#2a3f5f"
          },
          "geo": {
           "bgcolor": "white",
           "lakecolor": "white",
           "landcolor": "#E5ECF6",
           "showlakes": true,
           "showland": true,
           "subunitcolor": "white"
          },
          "hoverlabel": {
           "align": "left"
          },
          "hovermode": "closest",
          "mapbox": {
           "style": "light"
          },
          "paper_bgcolor": "white",
          "plot_bgcolor": "#E5ECF6",
          "polar": {
           "angularaxis": {
            "gridcolor": "white",
            "linecolor": "white",
            "ticks": ""
           },
           "bgcolor": "#E5ECF6",
           "radialaxis": {
            "gridcolor": "white",
            "linecolor": "white",
            "ticks": ""
           }
          },
          "scene": {
           "xaxis": {
            "backgroundcolor": "#E5ECF6",
            "gridcolor": "white",
            "gridwidth": 2,
            "linecolor": "white",
            "showbackground": true,
            "ticks": "",
            "zerolinecolor": "white"
           },
           "yaxis": {
            "backgroundcolor": "#E5ECF6",
            "gridcolor": "white",
            "gridwidth": 2,
            "linecolor": "white",
            "showbackground": true,
            "ticks": "",
            "zerolinecolor": "white"
           },
           "zaxis": {
            "backgroundcolor": "#E5ECF6",
            "gridcolor": "white",
            "gridwidth": 2,
            "linecolor": "white",
            "showbackground": true,
            "ticks": "",
            "zerolinecolor": "white"
           }
          },
          "shapedefaults": {
           "line": {
            "color": "#2a3f5f"
           }
          },
          "ternary": {
           "aaxis": {
            "gridcolor": "white",
            "linecolor": "white",
            "ticks": ""
           },
           "baxis": {
            "gridcolor": "white",
            "linecolor": "white",
            "ticks": ""
           },
           "bgcolor": "#E5ECF6",
           "caxis": {
            "gridcolor": "white",
            "linecolor": "white",
            "ticks": ""
           }
          },
          "title": {
           "x": 0.05
          },
          "xaxis": {
           "automargin": true,
           "gridcolor": "white",
           "linecolor": "white",
           "ticks": "",
           "title": {
            "standoff": 15
           },
           "zerolinecolor": "white",
           "zerolinewidth": 2
          },
          "yaxis": {
           "automargin": true,
           "gridcolor": "white",
           "linecolor": "white",
           "ticks": "",
           "title": {
            "standoff": 15
           },
           "zerolinecolor": "white",
           "zerolinewidth": 2
          }
         }
        },
        "title": {
         "text": "Model vs Source Weekly Volume by Site"
        },
        "updatemenus": [
         {
          "buttons": [
           {
            "args": [
             {
              "visible": [
               true,
               true,
               false,
               false,
               false,
               false,
               false,
               false,
               false,
               false
              ]
             }
            ],
            "label": "BAL",
            "method": "restyle"
           },
           {
            "args": [
             {
              "visible": [
               false,
               false,
               true,
               true,
               false,
               false,
               false,
               false,
               false,
               false
              ]
             }
            ],
            "label": "DAL",
            "method": "restyle"
           },
           {
            "args": [
             {
              "visible": [
               false,
               false,
               false,
               false,
               true,
               true,
               false,
               false,
               false,
               false
              ]
             }
            ],
            "label": "HOU",
            "method": "restyle"
           },
           {
            "args": [
             {
              "visible": [
               false,
               false,
               false,
               false,
               false,
               false,
               true,
               true,
               false,
               false
              ]
             }
            ],
            "label": "MIL",
            "method": "restyle"
           },
           {
            "args": [
             {
              "visible": [
               false,
               false,
               false,
               false,
               false,
               false,
               false,
               false,
               true,
               true
              ]
             }
            ],
            "label": "MIN",
            "method": "restyle"
           },
           {
            "args": [
             {
              "visible": [
               true,
               true,
               true,
               true,
               true,
               true,
               true,
               true,
               true,
               true
              ]
             }
            ],
            "label": "Select All",
            "method": "restyle"
           },
           {
            "args": [
             {
              "visible": [
               false,
               false,
               false,
               false,
               false,
               false,
               false,
               false,
               false,
               false
              ]
             }
            ],
            "label": "Clear All",
            "method": "restyle"
           }
          ],
          "direction": "down",
          "showactive": true,
          "x": 1.15,
          "y": 1.15
         }
        ],
        "xaxis": {
         "dtick": 1,
         "range": [
          0,
          15
         ],
         "tick0": 1,
         "tickmode": "linear",
         "title": {
          "text": "Week"
         }
        },
        "yaxis": {
         "title": {
          "text": "Weekly Volume"
         }
        }
       }
      }
     },
     "metadata": {},
     "output_type": "display_data"
    }
   ],
   "source": [
    "import pandas as pd\n",
    "import plotly.graph_objects as go\n",
    "\n",
    "# Load the data from the compiled CSV file\n",
    "input_file = r'C:\\Users\\aaron.eades\\OneDrive - Liquid Environmental Solutions\\Documents\\Programing\\Python\\Automated Density\\exports\\compiled_file_with_source_2.csv'\n",
    "df = pd.read_csv(input_file)\n",
    "\n",
    "# List of columns representing the weeks (1 to 26)\n",
    "week_columns = [str(i) for i in range(1, 27)]  # Adjust the range if fewer or more weeks exist\n",
    "\n",
    "# Group by 'Site' and sum the Model Volume (week columns)\n",
    "grouped_model = df.groupby('Site')[week_columns].sum()\n",
    "\n",
    "# Define global parameters for Source projection\n",
    "predict = 26  # Number of weeks to predict\n",
    "weekCodes = [str(i) for i in range(1, predict + 1)]\n",
    "\n",
    "# Function to create the source projection based on Source_NSD, frequency, and gallons\n",
    "def create_customer_projection(start_week, frequency, gallons):\n",
    "    projection = pd.Series(0, index=weekCodes)\n",
    "    for week in range(start_week, predict + 1, frequency):\n",
    "        if week <= predict:\n",
    "            projection[str(week)] = gallons\n",
    "    return projection\n",
    "\n",
    "# List to store source projections for each customer\n",
    "source_projections = []\n",
    "\n",
    "# Generate projections for each customer using 'Source_NSD' as start_week\n",
    "for idx, row in df.iterrows():\n",
    "    try:\n",
    "        start_week = int(row['Source_NSD'])  # Source start week is in 'Source_NSD'\n",
    "        frequency = int(row['FREQ'])  # Frequency of service\n",
    "        gallons = float(row['GALLONS'])  # Gallons for each customer\n",
    "\n",
    "        # Create the projection for the source\n",
    "        source_projection = create_customer_projection(start_week, frequency, gallons)\n",
    "\n",
    "        # Append to source projections with the Site as an identifier\n",
    "        source_projections.append((row['Site'], source_projection))\n",
    "    \n",
    "    except ValueError:\n",
    "        print(f\"Skipping row {idx} due to missing or invalid data.\")\n",
    "\n",
    "# Convert the list of projections into a DataFrame\n",
    "projection_df = pd.DataFrame([proj[1] for proj in source_projections])\n",
    "projection_df['Site'] = [proj[0] for proj in source_projections]\n",
    "\n",
    "# Group by 'Site' and sum the Source Volume (week columns)\n",
    "grouped_source = projection_df.groupby('Site')[weekCodes].sum()\n",
    "\n",
    "# Create the figure\n",
    "fig = go.Figure()\n",
    "\n",
    "# Add traces for each site's Model and Source projection\n",
    "for site in grouped_model.index:\n",
    "    # Source volume trace (now solid lines and primary colors)\n",
    "    fig.add_trace(go.Scatter(x=weekCodes, y=grouped_source.loc[site],\n",
    "                             mode='lines+markers', name=f'{site} (Source)',\n",
    "                             line=dict(dash='solid'), visible=True))\n",
    "\n",
    "    # Model volume trace (now dashed lines and secondary colors)\n",
    "    fig.add_trace(go.Scatter(x=weekCodes, y=grouped_model.loc[site],\n",
    "                             mode='lines+markers', name=f'{site} (Model)',\n",
    "                             line=dict(dash='dash'), visible=True))\n",
    "\n",
    "# Update layout for better interactivity\n",
    "# Button logic now shows both the Source and Model lines together for the selected site\n",
    "buttons = [\n",
    "    {\n",
    "        'method': 'restyle',\n",
    "        'label': site,\n",
    "        'args': [{'visible': [(i == j * 2 or i == j * 2 + 1) for i in range(len(grouped_model.index) * 2)]}]\n",
    "    } for j, site in enumerate(grouped_model.index)\n",
    "]\n",
    "\n",
    "# Add \"Select All\" and \"Clear All\" options\n",
    "buttons.append({\n",
    "    'method': 'restyle',\n",
    "    'label': 'Select All',\n",
    "    'args': [{'visible': [True] * len(grouped_model.index) * 2}]\n",
    "})\n",
    "\n",
    "buttons.append({\n",
    "    'method': 'restyle',\n",
    "    'label': 'Clear All',\n",
    "    'args': [{'visible': [False] * len(grouped_model.index) * 2}]\n",
    "})\n",
    "\n",
    "fig.update_layout(\n",
    "    title=\"Model vs Source Weekly Volume by Site\",\n",
    "    xaxis_title=\"Week\",\n",
    "    yaxis_title=\"Weekly Volume\",\n",
    "    updatemenus=[{\n",
    "        'buttons': buttons,\n",
    "        'direction': 'down',\n",
    "        'showactive': True,\n",
    "        'x': 1.15,\n",
    "        'y': 1.15,\n",
    "    }],\n",
    "    legend_title=\"Site\",\n",
    "    xaxis=dict(tickmode='linear', tick0=1, dtick=1, range=[0, 15]),\n",
    "    hovermode='x',\n",
    "    height=800\n",
    ")\n",
    "\n",
    "# Display the plot\n",
    "fig.show()\n"
   ]
  }
 ],
 "metadata": {
  "kernelspec": {
   "display_name": "base",
   "language": "python",
   "name": "python3"
  },
  "language_info": {
   "codemirror_mode": {
    "name": "ipython",
    "version": 3
   },
   "file_extension": ".py",
   "mimetype": "text/x-python",
   "name": "python",
   "nbconvert_exporter": "python",
   "pygments_lexer": "ipython3",
   "version": "3.11.9"
  }
 },
 "nbformat": 4,
 "nbformat_minor": 2
}
